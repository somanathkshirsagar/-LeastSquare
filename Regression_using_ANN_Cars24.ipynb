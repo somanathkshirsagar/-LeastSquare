{
  "cells": [
    {
      "cell_type": "markdown",
      "metadata": {
        "id": "view-in-github",
        "colab_type": "text"
      },
      "source": [
        "<a href=\"https://colab.research.google.com/github/somanathkshirsagar/-LeastSquare/blob/main/Regression_using_ANN_Cars24.ipynb\" target=\"_parent\"><img src=\"https://colab.research.google.com/assets/colab-badge.svg\" alt=\"Open In Colab\"/></a>"
      ]
    },
    {
      "cell_type": "markdown",
      "metadata": {
        "id": "R_Cn8dsH0ouz"
      },
      "source": [
        "**Author**: Somnath Tanaji Kshirasagr\n",
        "\n",
        "Fergusson College, Pune\n",
        "\n",
        "[Github](https://github.com/somanathkshirsagar) | [LinkedIn](https://www.linkedin.com/in/somnath-kshirasagar-73cba2212/)\n",
        "\n"
      ],
      "id": "R_Cn8dsH0ouz"
    },
    {
      "cell_type": "markdown",
      "metadata": {
        "id": "879cfe26"
      },
      "source": [
        "#### 1. Loading required Libraries"
      ],
      "id": "879cfe26"
    },
    {
      "cell_type": "code",
      "source": [
        "from google.colab import drive\n",
        "drive.mount('/content/drive')"
      ],
      "metadata": {
        "id": "YDDvZl3sd9IT"
      },
      "id": "YDDvZl3sd9IT",
      "execution_count": null,
      "outputs": []
    },
    {
      "cell_type": "code",
      "execution_count": 17,
      "metadata": {
        "id": "f5673b66"
      },
      "outputs": [],
      "source": [
        "import numpy as np               # Linear Algebra\n",
        "import pandas as pd              # Data Handling\n",
        "import seaborn as sns            # Visualization\n",
        "import matplotlib.pyplot as plt  # Visualization\n",
        "from datetime import date        # Used for Year\n",
        "import warnings                  # For warnings\n",
        "warnings.filterwarnings('ignore')"
      ],
      "id": "f5673b66"
    },
    {
      "cell_type": "markdown",
      "metadata": {
        "id": "8b31fe9b"
      },
      "source": [
        "#### 2. Importing dataset into 'cars' dataframe"
      ],
      "id": "8b31fe9b"
    },
    {
      "cell_type": "code",
      "execution_count": 18,
      "metadata": {
        "colab": {
          "base_uri": "https://localhost:8080/",
          "height": 434
        },
        "id": "8f1a6bf2",
        "outputId": "7bd7bfa0-e7ab-4040-b9b3-d0a4dd6b87f0"
      },
      "outputs": [
        {
          "output_type": "execute_result",
          "data": {
            "text/plain": [
              "                        Title                       cvakb     cvakb1  \\\n",
              "0             2020 KIA SELTOS   GTX + AT PETROL Automatic  Automatic   \n",
              "1           2020 Maruti Swift                  LXI Manual     Manual   \n",
              "2           2019 Maruti Swift                  LXI Manual     Manual   \n",
              "3             2020 KIA SELTOS    HTX 1.5 PETROL MT Manual     Manual   \n",
              "4  2014 Mercedes Benz C Class  C 200 AVANTGARDE Automatic  Automatic   \n",
              "\n",
              "       bvr0c     bvr0c2  bvr0c3      _7udzz Unnamed: 7 Unnamed: 8 Unnamed: 9  \\\n",
              "0   8,241 km  1st Owner  Petrol  ?18,95,199        NaN        NaN        NaN   \n",
              "1  10,568 km  1st Owner  Petrol   ?5,92,499        NaN        NaN        NaN   \n",
              "2  27,659 km  1st Owner  Petrol   ?5,33,399        NaN        NaN        NaN   \n",
              "3  32,799 km  1st Owner  Petrol  ?13,83,099        NaN        NaN        NaN   \n",
              "4  37,531 km  1st Owner  Petrol  ?20,33,499        NaN        NaN        NaN   \n",
              "\n",
              "  Unnamed: 10 Unnamed: 11 Unnamed: 12  \n",
              "0         NaN         NaN         NaN  \n",
              "1         NaN         NaN         NaN  \n",
              "2         NaN         NaN         NaN  \n",
              "3         NaN         NaN         NaN  \n",
              "4         NaN         NaN         NaN  "
            ],
            "text/html": [
              "\n",
              "  <div id=\"df-bfe0d569-89c0-4c06-be77-e330710cd9e5\" class=\"colab-df-container\">\n",
              "    <div>\n",
              "<style scoped>\n",
              "    .dataframe tbody tr th:only-of-type {\n",
              "        vertical-align: middle;\n",
              "    }\n",
              "\n",
              "    .dataframe tbody tr th {\n",
              "        vertical-align: top;\n",
              "    }\n",
              "\n",
              "    .dataframe thead th {\n",
              "        text-align: right;\n",
              "    }\n",
              "</style>\n",
              "<table border=\"1\" class=\"dataframe\">\n",
              "  <thead>\n",
              "    <tr style=\"text-align: right;\">\n",
              "      <th></th>\n",
              "      <th>Title</th>\n",
              "      <th>cvakb</th>\n",
              "      <th>cvakb1</th>\n",
              "      <th>bvr0c</th>\n",
              "      <th>bvr0c2</th>\n",
              "      <th>bvr0c3</th>\n",
              "      <th>_7udzz</th>\n",
              "      <th>Unnamed: 7</th>\n",
              "      <th>Unnamed: 8</th>\n",
              "      <th>Unnamed: 9</th>\n",
              "      <th>Unnamed: 10</th>\n",
              "      <th>Unnamed: 11</th>\n",
              "      <th>Unnamed: 12</th>\n",
              "    </tr>\n",
              "  </thead>\n",
              "  <tbody>\n",
              "    <tr>\n",
              "      <th>0</th>\n",
              "      <td>2020 KIA SELTOS</td>\n",
              "      <td>GTX + AT PETROL Automatic</td>\n",
              "      <td>Automatic</td>\n",
              "      <td>8,241 km</td>\n",
              "      <td>1st Owner</td>\n",
              "      <td>Petrol</td>\n",
              "      <td>?18,95,199</td>\n",
              "      <td>NaN</td>\n",
              "      <td>NaN</td>\n",
              "      <td>NaN</td>\n",
              "      <td>NaN</td>\n",
              "      <td>NaN</td>\n",
              "      <td>NaN</td>\n",
              "    </tr>\n",
              "    <tr>\n",
              "      <th>1</th>\n",
              "      <td>2020 Maruti Swift</td>\n",
              "      <td>LXI Manual</td>\n",
              "      <td>Manual</td>\n",
              "      <td>10,568 km</td>\n",
              "      <td>1st Owner</td>\n",
              "      <td>Petrol</td>\n",
              "      <td>?5,92,499</td>\n",
              "      <td>NaN</td>\n",
              "      <td>NaN</td>\n",
              "      <td>NaN</td>\n",
              "      <td>NaN</td>\n",
              "      <td>NaN</td>\n",
              "      <td>NaN</td>\n",
              "    </tr>\n",
              "    <tr>\n",
              "      <th>2</th>\n",
              "      <td>2019 Maruti Swift</td>\n",
              "      <td>LXI Manual</td>\n",
              "      <td>Manual</td>\n",
              "      <td>27,659 km</td>\n",
              "      <td>1st Owner</td>\n",
              "      <td>Petrol</td>\n",
              "      <td>?5,33,399</td>\n",
              "      <td>NaN</td>\n",
              "      <td>NaN</td>\n",
              "      <td>NaN</td>\n",
              "      <td>NaN</td>\n",
              "      <td>NaN</td>\n",
              "      <td>NaN</td>\n",
              "    </tr>\n",
              "    <tr>\n",
              "      <th>3</th>\n",
              "      <td>2020 KIA SELTOS</td>\n",
              "      <td>HTX 1.5 PETROL MT Manual</td>\n",
              "      <td>Manual</td>\n",
              "      <td>32,799 km</td>\n",
              "      <td>1st Owner</td>\n",
              "      <td>Petrol</td>\n",
              "      <td>?13,83,099</td>\n",
              "      <td>NaN</td>\n",
              "      <td>NaN</td>\n",
              "      <td>NaN</td>\n",
              "      <td>NaN</td>\n",
              "      <td>NaN</td>\n",
              "      <td>NaN</td>\n",
              "    </tr>\n",
              "    <tr>\n",
              "      <th>4</th>\n",
              "      <td>2014 Mercedes Benz C Class</td>\n",
              "      <td>C 200 AVANTGARDE Automatic</td>\n",
              "      <td>Automatic</td>\n",
              "      <td>37,531 km</td>\n",
              "      <td>1st Owner</td>\n",
              "      <td>Petrol</td>\n",
              "      <td>?20,33,499</td>\n",
              "      <td>NaN</td>\n",
              "      <td>NaN</td>\n",
              "      <td>NaN</td>\n",
              "      <td>NaN</td>\n",
              "      <td>NaN</td>\n",
              "      <td>NaN</td>\n",
              "    </tr>\n",
              "  </tbody>\n",
              "</table>\n",
              "</div>\n",
              "    <div class=\"colab-df-buttons\">\n",
              "\n",
              "  <div class=\"colab-df-container\">\n",
              "    <button class=\"colab-df-convert\" onclick=\"convertToInteractive('df-bfe0d569-89c0-4c06-be77-e330710cd9e5')\"\n",
              "            title=\"Convert this dataframe to an interactive table.\"\n",
              "            style=\"display:none;\">\n",
              "\n",
              "  <svg xmlns=\"http://www.w3.org/2000/svg\" height=\"24px\" viewBox=\"0 -960 960 960\">\n",
              "    <path d=\"M120-120v-720h720v720H120Zm60-500h600v-160H180v160Zm220 220h160v-160H400v160Zm0 220h160v-160H400v160ZM180-400h160v-160H180v160Zm440 0h160v-160H620v160ZM180-180h160v-160H180v160Zm440 0h160v-160H620v160Z\"/>\n",
              "  </svg>\n",
              "    </button>\n",
              "\n",
              "  <style>\n",
              "    .colab-df-container {\n",
              "      display:flex;\n",
              "      gap: 12px;\n",
              "    }\n",
              "\n",
              "    .colab-df-convert {\n",
              "      background-color: #E8F0FE;\n",
              "      border: none;\n",
              "      border-radius: 50%;\n",
              "      cursor: pointer;\n",
              "      display: none;\n",
              "      fill: #1967D2;\n",
              "      height: 32px;\n",
              "      padding: 0 0 0 0;\n",
              "      width: 32px;\n",
              "    }\n",
              "\n",
              "    .colab-df-convert:hover {\n",
              "      background-color: #E2EBFA;\n",
              "      box-shadow: 0px 1px 2px rgba(60, 64, 67, 0.3), 0px 1px 3px 1px rgba(60, 64, 67, 0.15);\n",
              "      fill: #174EA6;\n",
              "    }\n",
              "\n",
              "    .colab-df-buttons div {\n",
              "      margin-bottom: 4px;\n",
              "    }\n",
              "\n",
              "    [theme=dark] .colab-df-convert {\n",
              "      background-color: #3B4455;\n",
              "      fill: #D2E3FC;\n",
              "    }\n",
              "\n",
              "    [theme=dark] .colab-df-convert:hover {\n",
              "      background-color: #434B5C;\n",
              "      box-shadow: 0px 1px 3px 1px rgba(0, 0, 0, 0.15);\n",
              "      filter: drop-shadow(0px 1px 2px rgba(0, 0, 0, 0.3));\n",
              "      fill: #FFFFFF;\n",
              "    }\n",
              "  </style>\n",
              "\n",
              "    <script>\n",
              "      const buttonEl =\n",
              "        document.querySelector('#df-bfe0d569-89c0-4c06-be77-e330710cd9e5 button.colab-df-convert');\n",
              "      buttonEl.style.display =\n",
              "        google.colab.kernel.accessAllowed ? 'block' : 'none';\n",
              "\n",
              "      async function convertToInteractive(key) {\n",
              "        const element = document.querySelector('#df-bfe0d569-89c0-4c06-be77-e330710cd9e5');\n",
              "        const dataTable =\n",
              "          await google.colab.kernel.invokeFunction('convertToInteractive',\n",
              "                                                    [key], {});\n",
              "        if (!dataTable) return;\n",
              "\n",
              "        const docLinkHtml = 'Like what you see? Visit the ' +\n",
              "          '<a target=\"_blank\" href=https://colab.research.google.com/notebooks/data_table.ipynb>data table notebook</a>'\n",
              "          + ' to learn more about interactive tables.';\n",
              "        element.innerHTML = '';\n",
              "        dataTable['output_type'] = 'display_data';\n",
              "        await google.colab.output.renderOutput(dataTable, element);\n",
              "        const docLink = document.createElement('div');\n",
              "        docLink.innerHTML = docLinkHtml;\n",
              "        element.appendChild(docLink);\n",
              "      }\n",
              "    </script>\n",
              "  </div>\n",
              "\n",
              "\n",
              "<div id=\"df-9c84fb6b-2771-4156-a875-ea68c429966e\">\n",
              "  <button class=\"colab-df-quickchart\" onclick=\"quickchart('df-9c84fb6b-2771-4156-a875-ea68c429966e')\"\n",
              "            title=\"Suggest charts.\"\n",
              "            style=\"display:none;\">\n",
              "\n",
              "<svg xmlns=\"http://www.w3.org/2000/svg\" height=\"24px\"viewBox=\"0 0 24 24\"\n",
              "     width=\"24px\">\n",
              "    <g>\n",
              "        <path d=\"M19 3H5c-1.1 0-2 .9-2 2v14c0 1.1.9 2 2 2h14c1.1 0 2-.9 2-2V5c0-1.1-.9-2-2-2zM9 17H7v-7h2v7zm4 0h-2V7h2v10zm4 0h-2v-4h2v4z\"/>\n",
              "    </g>\n",
              "</svg>\n",
              "  </button>\n",
              "\n",
              "<style>\n",
              "  .colab-df-quickchart {\n",
              "      --bg-color: #E8F0FE;\n",
              "      --fill-color: #1967D2;\n",
              "      --hover-bg-color: #E2EBFA;\n",
              "      --hover-fill-color: #174EA6;\n",
              "      --disabled-fill-color: #AAA;\n",
              "      --disabled-bg-color: #DDD;\n",
              "  }\n",
              "\n",
              "  [theme=dark] .colab-df-quickchart {\n",
              "      --bg-color: #3B4455;\n",
              "      --fill-color: #D2E3FC;\n",
              "      --hover-bg-color: #434B5C;\n",
              "      --hover-fill-color: #FFFFFF;\n",
              "      --disabled-bg-color: #3B4455;\n",
              "      --disabled-fill-color: #666;\n",
              "  }\n",
              "\n",
              "  .colab-df-quickchart {\n",
              "    background-color: var(--bg-color);\n",
              "    border: none;\n",
              "    border-radius: 50%;\n",
              "    cursor: pointer;\n",
              "    display: none;\n",
              "    fill: var(--fill-color);\n",
              "    height: 32px;\n",
              "    padding: 0;\n",
              "    width: 32px;\n",
              "  }\n",
              "\n",
              "  .colab-df-quickchart:hover {\n",
              "    background-color: var(--hover-bg-color);\n",
              "    box-shadow: 0 1px 2px rgba(60, 64, 67, 0.3), 0 1px 3px 1px rgba(60, 64, 67, 0.15);\n",
              "    fill: var(--button-hover-fill-color);\n",
              "  }\n",
              "\n",
              "  .colab-df-quickchart-complete:disabled,\n",
              "  .colab-df-quickchart-complete:disabled:hover {\n",
              "    background-color: var(--disabled-bg-color);\n",
              "    fill: var(--disabled-fill-color);\n",
              "    box-shadow: none;\n",
              "  }\n",
              "\n",
              "  .colab-df-spinner {\n",
              "    border: 2px solid var(--fill-color);\n",
              "    border-color: transparent;\n",
              "    border-bottom-color: var(--fill-color);\n",
              "    animation:\n",
              "      spin 1s steps(1) infinite;\n",
              "  }\n",
              "\n",
              "  @keyframes spin {\n",
              "    0% {\n",
              "      border-color: transparent;\n",
              "      border-bottom-color: var(--fill-color);\n",
              "      border-left-color: var(--fill-color);\n",
              "    }\n",
              "    20% {\n",
              "      border-color: transparent;\n",
              "      border-left-color: var(--fill-color);\n",
              "      border-top-color: var(--fill-color);\n",
              "    }\n",
              "    30% {\n",
              "      border-color: transparent;\n",
              "      border-left-color: var(--fill-color);\n",
              "      border-top-color: var(--fill-color);\n",
              "      border-right-color: var(--fill-color);\n",
              "    }\n",
              "    40% {\n",
              "      border-color: transparent;\n",
              "      border-right-color: var(--fill-color);\n",
              "      border-top-color: var(--fill-color);\n",
              "    }\n",
              "    60% {\n",
              "      border-color: transparent;\n",
              "      border-right-color: var(--fill-color);\n",
              "    }\n",
              "    80% {\n",
              "      border-color: transparent;\n",
              "      border-right-color: var(--fill-color);\n",
              "      border-bottom-color: var(--fill-color);\n",
              "    }\n",
              "    90% {\n",
              "      border-color: transparent;\n",
              "      border-bottom-color: var(--fill-color);\n",
              "    }\n",
              "  }\n",
              "</style>\n",
              "\n",
              "  <script>\n",
              "    async function quickchart(key) {\n",
              "      const quickchartButtonEl =\n",
              "        document.querySelector('#' + key + ' button');\n",
              "      quickchartButtonEl.disabled = true;  // To prevent multiple clicks.\n",
              "      quickchartButtonEl.classList.add('colab-df-spinner');\n",
              "      try {\n",
              "        const charts = await google.colab.kernel.invokeFunction(\n",
              "            'suggestCharts', [key], {});\n",
              "      } catch (error) {\n",
              "        console.error('Error during call to suggestCharts:', error);\n",
              "      }\n",
              "      quickchartButtonEl.classList.remove('colab-df-spinner');\n",
              "      quickchartButtonEl.classList.add('colab-df-quickchart-complete');\n",
              "    }\n",
              "    (() => {\n",
              "      let quickchartButtonEl =\n",
              "        document.querySelector('#df-9c84fb6b-2771-4156-a875-ea68c429966e button');\n",
              "      quickchartButtonEl.style.display =\n",
              "        google.colab.kernel.accessAllowed ? 'block' : 'none';\n",
              "    })();\n",
              "  </script>\n",
              "</div>\n",
              "    </div>\n",
              "  </div>\n"
            ]
          },
          "metadata": {},
          "execution_count": 18
        }
      ],
      "source": [
        "cars = pd.read_csv(\"/content/Cars24.csv\")\n",
        "cars.head()"
      ],
      "id": "8f1a6bf2"
    },
    {
      "cell_type": "markdown",
      "metadata": {
        "id": "d19168b6"
      },
      "source": [
        "#### 3. Feature Engineering"
      ],
      "id": "d19168b6"
    },
    {
      "cell_type": "code",
      "execution_count": 19,
      "metadata": {
        "id": "27ca9dd7"
      },
      "outputs": [],
      "source": [
        "# To Perform Regex Operation\n",
        "import re\n",
        "\n",
        "# Will return string containing numbers\n",
        "def find_number(text):\n",
        "    num = re.findall(r'[0-9]+',text)\n",
        "    return \"\".join(num)\n",
        "\n",
        "# For Feature Engineering\n",
        "def feature_engineering(cars):\n",
        "    # First seven columns are relevant\n",
        "    cars = cars.iloc[:,:7]\n",
        "\n",
        "    # Giving Proper names to features\n",
        "    cars.rename(columns = {'Title':'Name', 'cvakb':'Variant', 'cvakb1':'Transmission', 'bvr0c':'km_driven', 'bvr0c2':'Owner_Type', 'bvr0c3':'Fuel', '_7udzz':'Price'}, inplace = True)\n",
        "\n",
        "    # Extracting only numbers\n",
        "    cars[\"Price\"] = cars[\"Price\"].apply(lambda x: find_number(x))\n",
        "\n",
        "    # Extracting year of purchase from Name\n",
        "    cars[\"Year_Purchased\"] = cars[\"Name\"].str.split().str.slice(start=0,stop=1).str.join(' ')\n",
        "\n",
        "    # Extracting name excluding year of purchase\n",
        "    cars[\"Name\"] = cars[\"Name\"].str.split().str.slice(start=1,stop=3).str.join(' ')\n",
        "\n",
        "    # Removing \"km\"\n",
        "    cars[\"km_driven\"] = cars[\"km_driven\"].str.split().str.slice(start=0,stop=1).str.join(' ')\n",
        "\n",
        "    # Extracting only numbers\n",
        "    cars[\"km_driven\"] = cars[\"km_driven\"].apply(lambda x: find_number(x))\n",
        "\n",
        "    # Removing Transmission type from the end of Variant\n",
        "    cars[\"Variant\"] = cars[\"Variant\"].str.rsplit(' ',1).str[0]\n",
        "\n",
        "    # Converting features to int\n",
        "    cars = cars.astype({\"km_driven\":\"int\",\"Price\":\"int\", \"Year_Purchased\":\"int\"})\n",
        "\n",
        "    # Deriving Age of Vehical from Year of Purchase\n",
        "    cars[\"Age\"] = date.today().year - cars[\"Year_Purchased\"]\n",
        "    cars.drop(['Year_Purchased'], axis=1, inplace=True)\n",
        "\n",
        "    return cars"
      ],
      "id": "27ca9dd7"
    },
    {
      "cell_type": "code",
      "execution_count": 20,
      "metadata": {
        "id": "zfXLTBxPdz8Q"
      },
      "outputs": [],
      "source": [
        "cars = feature_engineering(cars)"
      ],
      "id": "zfXLTBxPdz8Q"
    },
    {
      "cell_type": "code",
      "execution_count": 21,
      "metadata": {
        "colab": {
          "base_uri": "https://localhost:8080/",
          "height": 206
        },
        "id": "ddfd9833",
        "outputId": "da165cd8-df0f-4ccd-c85c-35ecd031a3f9"
      },
      "outputs": [
        {
          "output_type": "execute_result",
          "data": {
            "text/plain": [
              "            Name            Variant Transmission  km_driven Owner_Type  \\\n",
              "0     KIA SELTOS    GTX + AT PETROL    Automatic       8241  1st Owner   \n",
              "1   Maruti Swift                LXI       Manual      10568  1st Owner   \n",
              "2   Maruti Swift                LXI       Manual      27659  1st Owner   \n",
              "3     KIA SELTOS  HTX 1.5 PETROL MT       Manual      32799  1st Owner   \n",
              "4  Mercedes Benz   C 200 AVANTGARDE    Automatic      37531  1st Owner   \n",
              "\n",
              "     Fuel    Price  Age  \n",
              "0  Petrol  1895199    3  \n",
              "1  Petrol   592499    3  \n",
              "2  Petrol   533399    4  \n",
              "3  Petrol  1383099    3  \n",
              "4  Petrol  2033499    9  "
            ],
            "text/html": [
              "\n",
              "  <div id=\"df-7d5fdca1-8eaa-4ef1-98c7-6eda1c0f1ea7\" class=\"colab-df-container\">\n",
              "    <div>\n",
              "<style scoped>\n",
              "    .dataframe tbody tr th:only-of-type {\n",
              "        vertical-align: middle;\n",
              "    }\n",
              "\n",
              "    .dataframe tbody tr th {\n",
              "        vertical-align: top;\n",
              "    }\n",
              "\n",
              "    .dataframe thead th {\n",
              "        text-align: right;\n",
              "    }\n",
              "</style>\n",
              "<table border=\"1\" class=\"dataframe\">\n",
              "  <thead>\n",
              "    <tr style=\"text-align: right;\">\n",
              "      <th></th>\n",
              "      <th>Name</th>\n",
              "      <th>Variant</th>\n",
              "      <th>Transmission</th>\n",
              "      <th>km_driven</th>\n",
              "      <th>Owner_Type</th>\n",
              "      <th>Fuel</th>\n",
              "      <th>Price</th>\n",
              "      <th>Age</th>\n",
              "    </tr>\n",
              "  </thead>\n",
              "  <tbody>\n",
              "    <tr>\n",
              "      <th>0</th>\n",
              "      <td>KIA SELTOS</td>\n",
              "      <td>GTX + AT PETROL</td>\n",
              "      <td>Automatic</td>\n",
              "      <td>8241</td>\n",
              "      <td>1st Owner</td>\n",
              "      <td>Petrol</td>\n",
              "      <td>1895199</td>\n",
              "      <td>3</td>\n",
              "    </tr>\n",
              "    <tr>\n",
              "      <th>1</th>\n",
              "      <td>Maruti Swift</td>\n",
              "      <td>LXI</td>\n",
              "      <td>Manual</td>\n",
              "      <td>10568</td>\n",
              "      <td>1st Owner</td>\n",
              "      <td>Petrol</td>\n",
              "      <td>592499</td>\n",
              "      <td>3</td>\n",
              "    </tr>\n",
              "    <tr>\n",
              "      <th>2</th>\n",
              "      <td>Maruti Swift</td>\n",
              "      <td>LXI</td>\n",
              "      <td>Manual</td>\n",
              "      <td>27659</td>\n",
              "      <td>1st Owner</td>\n",
              "      <td>Petrol</td>\n",
              "      <td>533399</td>\n",
              "      <td>4</td>\n",
              "    </tr>\n",
              "    <tr>\n",
              "      <th>3</th>\n",
              "      <td>KIA SELTOS</td>\n",
              "      <td>HTX 1.5 PETROL MT</td>\n",
              "      <td>Manual</td>\n",
              "      <td>32799</td>\n",
              "      <td>1st Owner</td>\n",
              "      <td>Petrol</td>\n",
              "      <td>1383099</td>\n",
              "      <td>3</td>\n",
              "    </tr>\n",
              "    <tr>\n",
              "      <th>4</th>\n",
              "      <td>Mercedes Benz</td>\n",
              "      <td>C 200 AVANTGARDE</td>\n",
              "      <td>Automatic</td>\n",
              "      <td>37531</td>\n",
              "      <td>1st Owner</td>\n",
              "      <td>Petrol</td>\n",
              "      <td>2033499</td>\n",
              "      <td>9</td>\n",
              "    </tr>\n",
              "  </tbody>\n",
              "</table>\n",
              "</div>\n",
              "    <div class=\"colab-df-buttons\">\n",
              "\n",
              "  <div class=\"colab-df-container\">\n",
              "    <button class=\"colab-df-convert\" onclick=\"convertToInteractive('df-7d5fdca1-8eaa-4ef1-98c7-6eda1c0f1ea7')\"\n",
              "            title=\"Convert this dataframe to an interactive table.\"\n",
              "            style=\"display:none;\">\n",
              "\n",
              "  <svg xmlns=\"http://www.w3.org/2000/svg\" height=\"24px\" viewBox=\"0 -960 960 960\">\n",
              "    <path d=\"M120-120v-720h720v720H120Zm60-500h600v-160H180v160Zm220 220h160v-160H400v160Zm0 220h160v-160H400v160ZM180-400h160v-160H180v160Zm440 0h160v-160H620v160ZM180-180h160v-160H180v160Zm440 0h160v-160H620v160Z\"/>\n",
              "  </svg>\n",
              "    </button>\n",
              "\n",
              "  <style>\n",
              "    .colab-df-container {\n",
              "      display:flex;\n",
              "      gap: 12px;\n",
              "    }\n",
              "\n",
              "    .colab-df-convert {\n",
              "      background-color: #E8F0FE;\n",
              "      border: none;\n",
              "      border-radius: 50%;\n",
              "      cursor: pointer;\n",
              "      display: none;\n",
              "      fill: #1967D2;\n",
              "      height: 32px;\n",
              "      padding: 0 0 0 0;\n",
              "      width: 32px;\n",
              "    }\n",
              "\n",
              "    .colab-df-convert:hover {\n",
              "      background-color: #E2EBFA;\n",
              "      box-shadow: 0px 1px 2px rgba(60, 64, 67, 0.3), 0px 1px 3px 1px rgba(60, 64, 67, 0.15);\n",
              "      fill: #174EA6;\n",
              "    }\n",
              "\n",
              "    .colab-df-buttons div {\n",
              "      margin-bottom: 4px;\n",
              "    }\n",
              "\n",
              "    [theme=dark] .colab-df-convert {\n",
              "      background-color: #3B4455;\n",
              "      fill: #D2E3FC;\n",
              "    }\n",
              "\n",
              "    [theme=dark] .colab-df-convert:hover {\n",
              "      background-color: #434B5C;\n",
              "      box-shadow: 0px 1px 3px 1px rgba(0, 0, 0, 0.15);\n",
              "      filter: drop-shadow(0px 1px 2px rgba(0, 0, 0, 0.3));\n",
              "      fill: #FFFFFF;\n",
              "    }\n",
              "  </style>\n",
              "\n",
              "    <script>\n",
              "      const buttonEl =\n",
              "        document.querySelector('#df-7d5fdca1-8eaa-4ef1-98c7-6eda1c0f1ea7 button.colab-df-convert');\n",
              "      buttonEl.style.display =\n",
              "        google.colab.kernel.accessAllowed ? 'block' : 'none';\n",
              "\n",
              "      async function convertToInteractive(key) {\n",
              "        const element = document.querySelector('#df-7d5fdca1-8eaa-4ef1-98c7-6eda1c0f1ea7');\n",
              "        const dataTable =\n",
              "          await google.colab.kernel.invokeFunction('convertToInteractive',\n",
              "                                                    [key], {});\n",
              "        if (!dataTable) return;\n",
              "\n",
              "        const docLinkHtml = 'Like what you see? Visit the ' +\n",
              "          '<a target=\"_blank\" href=https://colab.research.google.com/notebooks/data_table.ipynb>data table notebook</a>'\n",
              "          + ' to learn more about interactive tables.';\n",
              "        element.innerHTML = '';\n",
              "        dataTable['output_type'] = 'display_data';\n",
              "        await google.colab.output.renderOutput(dataTable, element);\n",
              "        const docLink = document.createElement('div');\n",
              "        docLink.innerHTML = docLinkHtml;\n",
              "        element.appendChild(docLink);\n",
              "      }\n",
              "    </script>\n",
              "  </div>\n",
              "\n",
              "\n",
              "<div id=\"df-81e30883-13c3-49f6-a3c4-c3ee985c9475\">\n",
              "  <button class=\"colab-df-quickchart\" onclick=\"quickchart('df-81e30883-13c3-49f6-a3c4-c3ee985c9475')\"\n",
              "            title=\"Suggest charts.\"\n",
              "            style=\"display:none;\">\n",
              "\n",
              "<svg xmlns=\"http://www.w3.org/2000/svg\" height=\"24px\"viewBox=\"0 0 24 24\"\n",
              "     width=\"24px\">\n",
              "    <g>\n",
              "        <path d=\"M19 3H5c-1.1 0-2 .9-2 2v14c0 1.1.9 2 2 2h14c1.1 0 2-.9 2-2V5c0-1.1-.9-2-2-2zM9 17H7v-7h2v7zm4 0h-2V7h2v10zm4 0h-2v-4h2v4z\"/>\n",
              "    </g>\n",
              "</svg>\n",
              "  </button>\n",
              "\n",
              "<style>\n",
              "  .colab-df-quickchart {\n",
              "      --bg-color: #E8F0FE;\n",
              "      --fill-color: #1967D2;\n",
              "      --hover-bg-color: #E2EBFA;\n",
              "      --hover-fill-color: #174EA6;\n",
              "      --disabled-fill-color: #AAA;\n",
              "      --disabled-bg-color: #DDD;\n",
              "  }\n",
              "\n",
              "  [theme=dark] .colab-df-quickchart {\n",
              "      --bg-color: #3B4455;\n",
              "      --fill-color: #D2E3FC;\n",
              "      --hover-bg-color: #434B5C;\n",
              "      --hover-fill-color: #FFFFFF;\n",
              "      --disabled-bg-color: #3B4455;\n",
              "      --disabled-fill-color: #666;\n",
              "  }\n",
              "\n",
              "  .colab-df-quickchart {\n",
              "    background-color: var(--bg-color);\n",
              "    border: none;\n",
              "    border-radius: 50%;\n",
              "    cursor: pointer;\n",
              "    display: none;\n",
              "    fill: var(--fill-color);\n",
              "    height: 32px;\n",
              "    padding: 0;\n",
              "    width: 32px;\n",
              "  }\n",
              "\n",
              "  .colab-df-quickchart:hover {\n",
              "    background-color: var(--hover-bg-color);\n",
              "    box-shadow: 0 1px 2px rgba(60, 64, 67, 0.3), 0 1px 3px 1px rgba(60, 64, 67, 0.15);\n",
              "    fill: var(--button-hover-fill-color);\n",
              "  }\n",
              "\n",
              "  .colab-df-quickchart-complete:disabled,\n",
              "  .colab-df-quickchart-complete:disabled:hover {\n",
              "    background-color: var(--disabled-bg-color);\n",
              "    fill: var(--disabled-fill-color);\n",
              "    box-shadow: none;\n",
              "  }\n",
              "\n",
              "  .colab-df-spinner {\n",
              "    border: 2px solid var(--fill-color);\n",
              "    border-color: transparent;\n",
              "    border-bottom-color: var(--fill-color);\n",
              "    animation:\n",
              "      spin 1s steps(1) infinite;\n",
              "  }\n",
              "\n",
              "  @keyframes spin {\n",
              "    0% {\n",
              "      border-color: transparent;\n",
              "      border-bottom-color: var(--fill-color);\n",
              "      border-left-color: var(--fill-color);\n",
              "    }\n",
              "    20% {\n",
              "      border-color: transparent;\n",
              "      border-left-color: var(--fill-color);\n",
              "      border-top-color: var(--fill-color);\n",
              "    }\n",
              "    30% {\n",
              "      border-color: transparent;\n",
              "      border-left-color: var(--fill-color);\n",
              "      border-top-color: var(--fill-color);\n",
              "      border-right-color: var(--fill-color);\n",
              "    }\n",
              "    40% {\n",
              "      border-color: transparent;\n",
              "      border-right-color: var(--fill-color);\n",
              "      border-top-color: var(--fill-color);\n",
              "    }\n",
              "    60% {\n",
              "      border-color: transparent;\n",
              "      border-right-color: var(--fill-color);\n",
              "    }\n",
              "    80% {\n",
              "      border-color: transparent;\n",
              "      border-right-color: var(--fill-color);\n",
              "      border-bottom-color: var(--fill-color);\n",
              "    }\n",
              "    90% {\n",
              "      border-color: transparent;\n",
              "      border-bottom-color: var(--fill-color);\n",
              "    }\n",
              "  }\n",
              "</style>\n",
              "\n",
              "  <script>\n",
              "    async function quickchart(key) {\n",
              "      const quickchartButtonEl =\n",
              "        document.querySelector('#' + key + ' button');\n",
              "      quickchartButtonEl.disabled = true;  // To prevent multiple clicks.\n",
              "      quickchartButtonEl.classList.add('colab-df-spinner');\n",
              "      try {\n",
              "        const charts = await google.colab.kernel.invokeFunction(\n",
              "            'suggestCharts', [key], {});\n",
              "      } catch (error) {\n",
              "        console.error('Error during call to suggestCharts:', error);\n",
              "      }\n",
              "      quickchartButtonEl.classList.remove('colab-df-spinner');\n",
              "      quickchartButtonEl.classList.add('colab-df-quickchart-complete');\n",
              "    }\n",
              "    (() => {\n",
              "      let quickchartButtonEl =\n",
              "        document.querySelector('#df-81e30883-13c3-49f6-a3c4-c3ee985c9475 button');\n",
              "      quickchartButtonEl.style.display =\n",
              "        google.colab.kernel.accessAllowed ? 'block' : 'none';\n",
              "    })();\n",
              "  </script>\n",
              "</div>\n",
              "    </div>\n",
              "  </div>\n"
            ]
          },
          "metadata": {},
          "execution_count": 21
        }
      ],
      "source": [
        "cars.head()"
      ],
      "id": "ddfd9833"
    },
    {
      "cell_type": "markdown",
      "metadata": {
        "id": "3dec43dd"
      },
      "source": [
        "#### 4. Description of Dataset"
      ],
      "id": "3dec43dd"
    },
    {
      "cell_type": "markdown",
      "metadata": {
        "id": "5edea187"
      },
      "source": [
        "##### 4.1 Shape of Dataset"
      ],
      "id": "5edea187"
    },
    {
      "cell_type": "code",
      "execution_count": 22,
      "metadata": {
        "colab": {
          "base_uri": "https://localhost:8080/"
        },
        "id": "77f929f6",
        "outputId": "a8854efe-2574-45af-bcbe-2eb168e06a8f"
      },
      "outputs": [
        {
          "output_type": "stream",
          "name": "stdout",
          "text": [
            "There are \u001b[1m 656 rows\\patterns \u001b[0m and \u001b[1m8 features\u001b[0m.\n"
          ]
        }
      ],
      "source": [
        "shape = cars.shape\n",
        "print(f\"There are \\033[1m {shape[0]} rows\\patterns \\033[0m and \\033[1m{shape[1]} features\\033[0m.\")"
      ],
      "id": "77f929f6"
    },
    {
      "cell_type": "markdown",
      "metadata": {
        "id": "28463486"
      },
      "source": [
        "##### 4.2 info"
      ],
      "id": "28463486"
    },
    {
      "cell_type": "code",
      "execution_count": 23,
      "metadata": {
        "colab": {
          "base_uri": "https://localhost:8080/"
        },
        "id": "d1cd33ee",
        "outputId": "b3309189-ab0e-4d07-a65c-1fe05051c4c1"
      },
      "outputs": [
        {
          "output_type": "stream",
          "name": "stdout",
          "text": [
            "<class 'pandas.core.frame.DataFrame'>\n",
            "RangeIndex: 656 entries, 0 to 655\n",
            "Data columns (total 8 columns):\n",
            " #   Column        Non-Null Count  Dtype \n",
            "---  ------        --------------  ----- \n",
            " 0   Name          656 non-null    object\n",
            " 1   Variant       656 non-null    object\n",
            " 2   Transmission  632 non-null    object\n",
            " 3   km_driven     656 non-null    int64 \n",
            " 4   Owner_Type    656 non-null    object\n",
            " 5   Fuel          656 non-null    object\n",
            " 6   Price         656 non-null    int64 \n",
            " 7   Age           656 non-null    int64 \n",
            "dtypes: int64(3), object(5)\n",
            "memory usage: 41.1+ KB\n"
          ]
        }
      ],
      "source": [
        "cars.info()"
      ],
      "id": "d1cd33ee"
    },
    {
      "cell_type": "markdown",
      "metadata": {
        "id": "c55f105e"
      },
      "source": [
        "##### 4.3 Missing Values for features"
      ],
      "id": "c55f105e"
    },
    {
      "cell_type": "code",
      "execution_count": 24,
      "metadata": {
        "colab": {
          "base_uri": "https://localhost:8080/"
        },
        "id": "89159871",
        "outputId": "2d8d264e-2b26-4921-aed2-0330d2ae55c9"
      },
      "outputs": [
        {
          "output_type": "execute_result",
          "data": {
            "text/plain": [
              "[['Transmission', 24]]"
            ]
          },
          "metadata": {},
          "execution_count": 24
        }
      ],
      "source": [
        "[[features,cars[features].isnull().sum()] for features in cars.columns if cars[features].isnull().sum()>0]"
      ],
      "id": "89159871"
    },
    {
      "cell_type": "markdown",
      "metadata": {
        "id": "918152da"
      },
      "source": [
        "##### 4.4 Heat Map for Missing Values"
      ],
      "id": "918152da"
    },
    {
      "cell_type": "code",
      "execution_count": 25,
      "metadata": {
        "colab": {
          "base_uri": "https://localhost:8080/",
          "height": 556
        },
        "id": "5ce4232c",
        "outputId": "dd6c1055-cec0-4eee-ba6d-816514ebfad2"
      },
      "outputs": [
        {
          "output_type": "display_data",
          "data": {
            "text/plain": [
              "<Figure size 800x500 with 1 Axes>"
            ],
            "image/png": "[encoded data removed]"
          },
          "metadata": {}
        }
      ],
      "source": [
        "fig = sns.set(rc={'figure.figsize': (8, 5)})\n",
        "plt.title(\"Heat Map for Missing Values\")\n",
        "sns.heatmap(cars.isnull(),yticklabels=False,cbar=False,cmap='viridis')\n",
        "plt.show()"
      ],
      "id": "5ce4232c"
    },
    {
      "cell_type": "markdown",
      "metadata": {
        "id": "9cd0e7a6"
      },
      "source": [
        "##### 4.5 Dropping NA values"
      ],
      "id": "9cd0e7a6"
    },
    {
      "cell_type": "code",
      "execution_count": 26,
      "metadata": {
        "id": "9c037006"
      },
      "outputs": [],
      "source": [
        "cars.dropna(inplace=True)"
      ],
      "id": "9c037006"
    },
    {
      "cell_type": "markdown",
      "metadata": {
        "id": "f69b857a"
      },
      "source": [
        "Approximately, **3% values are Na**. Therefore, to simplify things, we dropped them."
      ],
      "id": "f69b857a"
    },
    {
      "cell_type": "markdown",
      "metadata": {
        "id": "5e24b2ee"
      },
      "source": [
        "#### 5. Exploratory Data Analysis"
      ],
      "id": "5e24b2ee"
    },
    {
      "cell_type": "markdown",
      "metadata": {
        "id": "b695f850"
      },
      "source": [
        "##### 5.1.1. Type of Owner and Number of Cars"
      ],
      "id": "b695f850"
    },
    {
      "cell_type": "code",
      "execution_count": 27,
      "metadata": {
        "colab": {
          "base_uri": "https://localhost:8080/"
        },
        "id": "a3b0f94f",
        "outputId": "2444953b-87f1-4ea3-e756-ef8c13025978"
      },
      "outputs": [
        {
          "output_type": "execute_result",
          "data": {
            "text/plain": [
              "1st Owner    504\n",
              "2nd Owner    123\n",
              "3rd Owner      5\n",
              "Name: Owner_Type, dtype: int64"
            ]
          },
          "metadata": {},
          "execution_count": 27
        }
      ],
      "source": [
        "cars['Owner_Type'].value_counts()"
      ],
      "id": "a3b0f94f"
    },
    {
      "cell_type": "markdown",
      "metadata": {
        "id": "74025c60"
      },
      "source": [
        "##### 5.1.2. Countplot Owner Type Vs Number of Cars"
      ],
      "id": "74025c60"
    },
    {
      "cell_type": "code",
      "execution_count": 28,
      "metadata": {
        "colab": {
          "base_uri": "https://localhost:8080/",
          "height": 727
        },
        "id": "fab268b4",
        "outputId": "30662f47-971e-423e-a067-174a423a5944"
      },
      "outputs": [
        {
          "output_type": "display_data",
          "data": {
            "text/plain": [
              "<Figure size 1000x800 with 1 Axes>"
            ],
            "image/png": "[encoded data removed]"
          },
          "metadata": {}
        }
      ],
      "source": [
        "fig = sns.set(rc={'figure.figsize': (10, 8)})\n",
        "plt.title(\"Countplot Owner Type Vs Number of Cars\")\n",
        "sns.countplot(x ='Owner_Type', data = cars)\n",
        "plt.show()"
      ],
      "id": "fab268b4"
    },
    {
      "cell_type": "markdown",
      "metadata": {
        "id": "028085d2"
      },
      "source": [
        "**Observation**\n",
        "\n",
        "**First Owned Cars** are **highest among all**."
      ],
      "id": "028085d2"
    },
    {
      "cell_type": "markdown",
      "metadata": {
        "id": "5b639e93"
      },
      "source": [
        "##### 5.1.4. Pie Chart Type of Owner Vs Number of cars."
      ],
      "id": "5b639e93"
    },
    {
      "cell_type": "code",
      "execution_count": 29,
      "metadata": {
        "colab": {
          "base_uri": "https://localhost:8080/",
          "height": 675
        },
        "id": "f79bd03c",
        "outputId": "d23d1e11-55bd-4309-d388-9a96952f09c4"
      },
      "outputs": [
        {
          "output_type": "display_data",
          "data": {
            "text/plain": [
              "<Figure size 1000x800 with 1 Axes>"
            ],
            "image/png": "[encoded data removed]"
          },
          "metadata": {}
        }
      ],
      "source": [
        "fig = sns.set(rc={'figure.figsize': (10, 8)})\n",
        "plt.title(\"Type of Owner Vs Number of cars\")\n",
        "plt.pie(cars['Owner_Type'].value_counts(),labels=cars['Owner_Type'].unique(),pctdistance=1.1, labeldistance=1.2,autopct='%.2f')\n",
        "plt.show()"
      ],
      "id": "f79bd03c"
    },
    {
      "cell_type": "markdown",
      "metadata": {
        "id": "c0dacfe4"
      },
      "source": [
        "**Observation**\n",
        "\n",
        "1. **79.75 %** of cars are **First Owned**.\n",
        "2. **19.46 %** of cars are **Second Owned**.\n",
        "3. **0.79 %** of cars are **Third Owned**."
      ],
      "id": "c0dacfe4"
    },
    {
      "cell_type": "markdown",
      "metadata": {
        "id": "4098722b"
      },
      "source": [
        "##### 5.2. Barplot Owner Type Vs Selling Price"
      ],
      "id": "4098722b"
    },
    {
      "cell_type": "code",
      "execution_count": 30,
      "metadata": {
        "colab": {
          "base_uri": "https://localhost:8080/",
          "height": 727
        },
        "id": "f66b7300",
        "outputId": "8831303c-298a-4c66-c946-442bf2fa164e"
      },
      "outputs": [
        {
          "output_type": "display_data",
          "data": {
            "text/plain": [
              "<Figure size 1000x800 with 1 Axes>"
            ],
            "image/png": "[encoded data removed]"
          },
          "metadata": {}
        }
      ],
      "source": [
        "fig = sns.set(rc={'figure.figsize': (10, 8)})\n",
        "plt.title(\"Owner Type Vs Price\")\n",
        "sns.barplot(x='Owner_Type',y='Price',data=cars,palette='spring')\n",
        "plt.show()"
      ],
      "id": "f66b7300"
    },
    {
      "cell_type": "markdown",
      "metadata": {
        "id": "1a1629e6"
      },
      "source": [
        "**Observation**\n",
        "\n",
        "**First Owner cars** have **high average selling price**.\n",
        "\n",
        "As **number of owners** increases the **selling price** of car **decreases**."
      ],
      "id": "1a1629e6"
    },
    {
      "cell_type": "markdown",
      "metadata": {
        "id": "48b5ba84"
      },
      "source": [
        "##### 5.3.1. Automatic Vs Manual"
      ],
      "id": "48b5ba84"
    },
    {
      "cell_type": "code",
      "execution_count": 31,
      "metadata": {
        "colab": {
          "base_uri": "https://localhost:8080/"
        },
        "id": "60da393d",
        "outputId": "a209b3d2-a837-4f5a-9eff-b38e61aaa928"
      },
      "outputs": [
        {
          "output_type": "execute_result",
          "data": {
            "text/plain": [
              "array(['Automatic', 'Manual', 'AUTOMATIC'], dtype=object)"
            ]
          },
          "metadata": {},
          "execution_count": 31
        }
      ],
      "source": [
        "cars['Transmission'].unique()"
      ],
      "id": "60da393d"
    },
    {
      "cell_type": "code",
      "execution_count": 32,
      "metadata": {
        "id": "3418c130"
      },
      "outputs": [],
      "source": [
        "cars['Transmission'] = np.where(cars['Transmission'] == 'AUTOMATIC', 'Automatic', cars['Transmission'])"
      ],
      "id": "3418c130"
    },
    {
      "cell_type": "code",
      "execution_count": 33,
      "metadata": {
        "colab": {
          "base_uri": "https://localhost:8080/"
        },
        "id": "b7c969b5",
        "outputId": "9b2490d7-7db3-4866-eb30-f3a6780ef943"
      },
      "outputs": [
        {
          "output_type": "execute_result",
          "data": {
            "text/plain": [
              "Manual       515\n",
              "Automatic    117\n",
              "Name: Transmission, dtype: int64"
            ]
          },
          "metadata": {},
          "execution_count": 33
        }
      ],
      "source": [
        "cars['Transmission'].value_counts()"
      ],
      "id": "b7c969b5"
    },
    {
      "cell_type": "markdown",
      "metadata": {
        "id": "ec5203b4"
      },
      "source": [
        "##### 5.3.2. Countplot Transmission Vs Number of Cars"
      ],
      "id": "ec5203b4"
    },
    {
      "cell_type": "code",
      "execution_count": 34,
      "metadata": {
        "colab": {
          "base_uri": "https://localhost:8080/",
          "height": 727
        },
        "id": "2dbb5f27",
        "outputId": "54c2ea06-5743-4246-9271-18df0dfb20dc"
      },
      "outputs": [
        {
          "output_type": "display_data",
          "data": {
            "text/plain": [
              "<Figure size 1000x800 with 1 Axes>"
            ],
            "image/png": "[encoded data removed]"
          },
          "metadata": {}
        }
      ],
      "source": [
        "fig = sns.set(rc={'figure.figsize': (10, 8)})\n",
        "plt.title(\"Transmission Vs Number of Cars\")\n",
        "sns.countplot(x ='Transmission', data = cars)\n",
        "plt.show()"
      ],
      "id": "2dbb5f27"
    },
    {
      "cell_type": "markdown",
      "metadata": {
        "id": "1ee3abc7"
      },
      "source": [
        "**Observation**\n",
        "\n",
        "Most of the cars are **Manual**."
      ],
      "id": "1ee3abc7"
    },
    {
      "cell_type": "markdown",
      "metadata": {
        "id": "d69a55a0"
      },
      "source": [
        "##### 5.4. Barplot Transmission Vs Selling Price"
      ],
      "id": "d69a55a0"
    },
    {
      "cell_type": "code",
      "execution_count": 35,
      "metadata": {
        "colab": {
          "base_uri": "https://localhost:8080/",
          "height": 727
        },
        "id": "79b55c73",
        "outputId": "2b1c7b8e-af4c-4f1d-c950-368ba2d7ce3d"
      },
      "outputs": [
        {
          "output_type": "display_data",
          "data": {
            "text/plain": [
              "<Figure size 1000x800 with 1 Axes>"
            ],
            "image/png": "[encoded data removed]"
          },
          "metadata": {}
        }
      ],
      "source": [
        "fig = sns.set(rc={'figure.figsize': (10, 8)})\n",
        "plt.title(\"Transmission Vs Selling Price\")\n",
        "sns.barplot(x='Transmission',y='Price',data=cars,palette='spring')\n",
        "plt.show()"
      ],
      "id": "79b55c73"
    },
    {
      "cell_type": "markdown",
      "metadata": {
        "id": "117672fe"
      },
      "source": [
        "**Observation**\n",
        "\n",
        "Cars having **Automatic Transmission have high selling price**."
      ],
      "id": "117672fe"
    },
    {
      "cell_type": "markdown",
      "metadata": {
        "id": "f23605ad"
      },
      "source": [
        "##### 5.5. Countplot Fuel Vs Number of Cars"
      ],
      "id": "f23605ad"
    },
    {
      "cell_type": "code",
      "execution_count": 36,
      "metadata": {
        "colab": {
          "base_uri": "https://localhost:8080/",
          "height": 727
        },
        "id": "7b1b8a0e",
        "outputId": "90558a1d-f037-4828-f6ab-f1d8d422623e"
      },
      "outputs": [
        {
          "output_type": "display_data",
          "data": {
            "text/plain": [
              "<Figure size 1000x800 with 1 Axes>"
            ],
            "image/png": "[encoded data removed]"
          },
          "metadata": {}
        }
      ],
      "source": [
        "fig = sns.set(rc={'figure.figsize': (10, 8)})\n",
        "plt.title(\"Fuel Vs Number of Cars\")\n",
        "sns.countplot(x ='Fuel', data = cars)\n",
        "plt.show()"
      ],
      "id": "7b1b8a0e"
    },
    {
      "cell_type": "markdown",
      "metadata": {
        "id": "49d85670"
      },
      "source": [
        "**Observation**\n",
        "\n",
        "Most of the cars are **Petrol**."
      ],
      "id": "49d85670"
    },
    {
      "cell_type": "markdown",
      "metadata": {
        "id": "51457ab9"
      },
      "source": [
        "##### 5.6. Barplot Fuel Vs Selling Price"
      ],
      "id": "51457ab9"
    },
    {
      "cell_type": "code",
      "execution_count": 37,
      "metadata": {
        "colab": {
          "base_uri": "https://localhost:8080/",
          "height": 727
        },
        "id": "6875283e",
        "outputId": "5f6ba4cf-34d5-488f-e95f-27256a821dea"
      },
      "outputs": [
        {
          "output_type": "display_data",
          "data": {
            "text/plain": [
              "<Figure size 1000x800 with 1 Axes>"
            ],
            "image/png": "[encoded data removed]"
          },
          "metadata": {}
        }
      ],
      "source": [
        "fig = sns.set(rc={'figure.figsize': (10, 8)})\n",
        "plt.title(\"Fuel Vs Price\")\n",
        "sns.barplot(x='Fuel',y='Price',data=cars,palette='spring')\n",
        "plt.show()"
      ],
      "id": "6875283e"
    },
    {
      "cell_type": "markdown",
      "metadata": {
        "id": "fc822d9e"
      },
      "source": [
        "**Observation**\n",
        "\n",
        "**Diesel cars** have **high average selling price**."
      ],
      "id": "fc822d9e"
    },
    {
      "cell_type": "markdown",
      "metadata": {
        "id": "bf1d9a19"
      },
      "source": [
        "##### 5.7. Age Vs Price"
      ],
      "id": "bf1d9a19"
    },
    {
      "cell_type": "code",
      "execution_count": 38,
      "metadata": {
        "colab": {
          "base_uri": "https://localhost:8080/",
          "height": 672
        },
        "id": "4fe7d2f6",
        "outputId": "fe5fe1a4-fe7a-461e-89fd-c6dad860be33",
        "scrolled": true
      },
      "outputs": [
        {
          "output_type": "display_data",
          "data": {
            "text/plain": [
              "<Figure size 1500x1000 with 1 Axes>"
            ],
            "image/png": "[encoded data removed]"
          },
          "metadata": {}
        }
      ],
      "source": [
        "fig = sns.set(rc={'figure.figsize': (15, 10)})\n",
        "plt.title(\"Fuel Vs Selling Price\")\n",
        "sns.barplot(x ='Age', y=\"Price\", data = cars ,palette='spring')\n",
        "plt.show()"
      ],
      "id": "4fe7d2f6"
    },
    {
      "cell_type": "markdown",
      "metadata": {
        "id": "e0e1b794"
      },
      "source": [
        "**Observation**\n",
        "\n",
        "As the age of Vehical increases, Price Decreases."
      ],
      "id": "e0e1b794"
    },
    {
      "cell_type": "markdown",
      "metadata": {
        "id": "5389ec13"
      },
      "source": [
        "#### 6. Model Fitting"
      ],
      "id": "5389ec13"
    },
    {
      "cell_type": "markdown",
      "metadata": {
        "id": "d8763a4d"
      },
      "source": [
        "##### 6.1 Outliers\n",
        "\n",
        "Before, fitting any model we need to analyse outliers in the dataset."
      ],
      "id": "d8763a4d"
    },
    {
      "cell_type": "code",
      "execution_count": 39,
      "metadata": {
        "colab": {
          "base_uri": "https://localhost:8080/",
          "height": 473
        },
        "id": "6d817a1a",
        "outputId": "156d9430-bf0c-48c1-cc6c-bc7114052d30"
      },
      "outputs": [
        {
          "output_type": "display_data",
          "data": {
            "text/plain": [
              "<Figure size 1000x500 with 1 Axes>"
            ],
            "image/png": "[encoded data removed]"
          },
          "metadata": {}
        }
      ],
      "source": [
        "fig = sns.set(rc={'figure.figsize': (10, 5)})\n",
        "sns.histplot(cars['Price'])\n",
        "# plt.hist(cars['Price'], bins=20, rwidth=0.8)\n",
        "plt.show()"
      ],
      "id": "6d817a1a"
    },
    {
      "cell_type": "code",
      "execution_count": 40,
      "metadata": {
        "colab": {
          "base_uri": "https://localhost:8080/",
          "height": 235
        },
        "id": "d50a2384",
        "outputId": "3c78359a-9e89-4df0-e6a5-7dda8c8cd7e0"
      },
      "outputs": [
        {
          "output_type": "display_data",
          "data": {
            "text/plain": [
              "<Figure size 1000x200 with 1 Axes>"
            ],
            "image/png": "[encoded data removed]"
          },
          "metadata": {}
        }
      ],
      "source": [
        "fig = sns.set(rc={'figure.figsize': (10, 2)})\n",
        "sns.boxplot(cars['Price'])\n",
        "plt.show()"
      ],
      "id": "d50a2384"
    },
    {
      "cell_type": "markdown",
      "metadata": {
        "id": "ce3a8e01"
      },
      "source": [
        "**Observation**\n",
        "\n",
        "As we can see, there are more than one outliers in the feature **Price**."
      ],
      "id": "ce3a8e01"
    },
    {
      "cell_type": "code",
      "execution_count": 41,
      "metadata": {
        "colab": {
          "base_uri": "https://localhost:8080/",
          "height": 206
        },
        "id": "ebff9f4d",
        "outputId": "dd7f085d-7e24-4550-8410-c595421c0a2d"
      },
      "outputs": [
        {
          "output_type": "execute_result",
          "data": {
            "text/plain": [
              "            Name            Variant Transmission  km_driven Owner_Type  \\\n",
              "0     KIA SELTOS    GTX + AT PETROL    Automatic       8241  1st Owner   \n",
              "1   Maruti Swift                LXI       Manual      10568  1st Owner   \n",
              "2   Maruti Swift                LXI       Manual      27659  1st Owner   \n",
              "3     KIA SELTOS  HTX 1.5 PETROL MT       Manual      32799  1st Owner   \n",
              "4  Mercedes Benz   C 200 AVANTGARDE    Automatic      37531  1st Owner   \n",
              "\n",
              "     Fuel    Price  Age    zscore  \n",
              "0  Petrol  1895199    3  3.225112  \n",
              "1  Petrol   592499    3 -0.257488  \n",
              "2  Petrol   533399    4 -0.415484  \n",
              "3  Petrol  1383099    3  1.856079  \n",
              "4  Petrol  2033499    9  3.594840  "
            ],
            "text/html": [
              "\n",
              "  <div id=\"df-ef31e7b9-1a3e-4102-a656-85d4c90efd09\" class=\"colab-df-container\">\n",
              "    <div>\n",
              "<style scoped>\n",
              "    .dataframe tbody tr th:only-of-type {\n",
              "        vertical-align: middle;\n",
              "    }\n",
              "\n",
              "    .dataframe tbody tr th {\n",
              "        vertical-align: top;\n",
              "    }\n",
              "\n",
              "    .dataframe thead th {\n",
              "        text-align: right;\n",
              "    }\n",
              "</style>\n",
              "<table border=\"1\" class=\"dataframe\">\n",
              "  <thead>\n",
              "    <tr style=\"text-align: right;\">\n",
              "      <th></th>\n",
              "      <th>Name</th>\n",
              "      <th>Variant</th>\n",
              "      <th>Transmission</th>\n",
              "      <th>km_driven</th>\n",
              "      <th>Owner_Type</th>\n",
              "      <th>Fuel</th>\n",
              "      <th>Price</th>\n",
              "      <th>Age</th>\n",
              "      <th>zscore</th>\n",
              "    </tr>\n",
              "  </thead>\n",
              "  <tbody>\n",
              "    <tr>\n",
              "      <th>0</th>\n",
              "      <td>KIA SELTOS</td>\n",
              "      <td>GTX + AT PETROL</td>\n",
              "      <td>Automatic</td>\n",
              "      <td>8241</td>\n",
              "      <td>1st Owner</td>\n",
              "      <td>Petrol</td>\n",
              "      <td>1895199</td>\n",
              "      <td>3</td>\n",
              "      <td>3.225112</td>\n",
              "    </tr>\n",
              "    <tr>\n",
              "      <th>1</th>\n",
              "      <td>Maruti Swift</td>\n",
              "      <td>LXI</td>\n",
              "      <td>Manual</td>\n",
              "      <td>10568</td>\n",
              "      <td>1st Owner</td>\n",
              "      <td>Petrol</td>\n",
              "      <td>592499</td>\n",
              "      <td>3</td>\n",
              "      <td>-0.257488</td>\n",
              "    </tr>\n",
              "    <tr>\n",
              "      <th>2</th>\n",
              "      <td>Maruti Swift</td>\n",
              "      <td>LXI</td>\n",
              "      <td>Manual</td>\n",
              "      <td>27659</td>\n",
              "      <td>1st Owner</td>\n",
              "      <td>Petrol</td>\n",
              "      <td>533399</td>\n",
              "      <td>4</td>\n",
              "      <td>-0.415484</td>\n",
              "    </tr>\n",
              "    <tr>\n",
              "      <th>3</th>\n",
              "      <td>KIA SELTOS</td>\n",
              "      <td>HTX 1.5 PETROL MT</td>\n",
              "      <td>Manual</td>\n",
              "      <td>32799</td>\n",
              "      <td>1st Owner</td>\n",
              "      <td>Petrol</td>\n",
              "      <td>1383099</td>\n",
              "      <td>3</td>\n",
              "      <td>1.856079</td>\n",
              "    </tr>\n",
              "    <tr>\n",
              "      <th>4</th>\n",
              "      <td>Mercedes Benz</td>\n",
              "      <td>C 200 AVANTGARDE</td>\n",
              "      <td>Automatic</td>\n",
              "      <td>37531</td>\n",
              "      <td>1st Owner</td>\n",
              "      <td>Petrol</td>\n",
              "      <td>2033499</td>\n",
              "      <td>9</td>\n",
              "      <td>3.594840</td>\n",
              "    </tr>\n",
              "  </tbody>\n",
              "</table>\n",
              "</div>\n",
              "    <div class=\"colab-df-buttons\">\n",
              "\n",
              "  <div class=\"colab-df-container\">\n",
              "    <button class=\"colab-df-convert\" onclick=\"convertToInteractive('df-ef31e7b9-1a3e-4102-a656-85d4c90efd09')\"\n",
              "            title=\"Convert this dataframe to an interactive table.\"\n",
              "            style=\"display:none;\">\n",
              "\n",
              "  <svg xmlns=\"http://www.w3.org/2000/svg\" height=\"24px\" viewBox=\"0 -960 960 960\">\n",
              "    <path d=\"M120-120v-720h720v720H120Zm60-500h600v-160H180v160Zm220 220h160v-160H400v160Zm0 220h160v-160H400v160ZM180-400h160v-160H180v160Zm440 0h160v-160H620v160ZM180-180h160v-160H180v160Zm440 0h160v-160H620v160Z\"/>\n",
              "  </svg>\n",
              "    </button>\n",
              "\n",
              "  <style>\n",
              "    .colab-df-container {\n",
              "      display:flex;\n",
              "      gap: 12px;\n",
              "    }\n",
              "\n",
              "    .colab-df-convert {\n",
              "      background-color: #E8F0FE;\n",
              "      border: none;\n",
              "      border-radius: 50%;\n",
              "      cursor: pointer;\n",
              "      display: none;\n",
              "      fill: #1967D2;\n",
              "      height: 32px;\n",
              "      padding: 0 0 0 0;\n",
              "      width: 32px;\n",
              "    }\n",
              "\n",
              "    .colab-df-convert:hover {\n",
              "      background-color: #E2EBFA;\n",
              "      box-shadow: 0px 1px 2px rgba(60, 64, 67, 0.3), 0px 1px 3px 1px rgba(60, 64, 67, 0.15);\n",
              "      fill: #174EA6;\n",
              "    }\n",
              "\n",
              "    .colab-df-buttons div {\n",
              "      margin-bottom: 4px;\n",
              "    }\n",
              "\n",
              "    [theme=dark] .colab-df-convert {\n",
              "      background-color: #3B4455;\n",
              "      fill: #D2E3FC;\n",
              "    }\n",
              "\n",
              "    [theme=dark] .colab-df-convert:hover {\n",
              "      background-color: #434B5C;\n",
              "      box-shadow: 0px 1px 3px 1px rgba(0, 0, 0, 0.15);\n",
              "      filter: drop-shadow(0px 1px 2px rgba(0, 0, 0, 0.3));\n",
              "      fill: #FFFFFF;\n",
              "    }\n",
              "  </style>\n",
              "\n",
              "    <script>\n",
              "      const buttonEl =\n",
              "        document.querySelector('#df-ef31e7b9-1a3e-4102-a656-85d4c90efd09 button.colab-df-convert');\n",
              "      buttonEl.style.display =\n",
              "        google.colab.kernel.accessAllowed ? 'block' : 'none';\n",
              "\n",
              "      async function convertToInteractive(key) {\n",
              "        const element = document.querySelector('#df-ef31e7b9-1a3e-4102-a656-85d4c90efd09');\n",
              "        const dataTable =\n",
              "          await google.colab.kernel.invokeFunction('convertToInteractive',\n",
              "                                                    [key], {});\n",
              "        if (!dataTable) return;\n",
              "\n",
              "        const docLinkHtml = 'Like what you see? Visit the ' +\n",
              "          '<a target=\"_blank\" href=https://colab.research.google.com/notebooks/data_table.ipynb>data table notebook</a>'\n",
              "          + ' to learn more about interactive tables.';\n",
              "        element.innerHTML = '';\n",
              "        dataTable['output_type'] = 'display_data';\n",
              "        await google.colab.output.renderOutput(dataTable, element);\n",
              "        const docLink = document.createElement('div');\n",
              "        docLink.innerHTML = docLinkHtml;\n",
              "        element.appendChild(docLink);\n",
              "      }\n",
              "    </script>\n",
              "  </div>\n",
              "\n",
              "\n",
              "<div id=\"df-c62cba8e-58db-411d-ae3a-aa31c3664539\">\n",
              "  <button class=\"colab-df-quickchart\" onclick=\"quickchart('df-c62cba8e-58db-411d-ae3a-aa31c3664539')\"\n",
              "            title=\"Suggest charts.\"\n",
              "            style=\"display:none;\">\n",
              "\n",
              "<svg xmlns=\"http://www.w3.org/2000/svg\" height=\"24px\"viewBox=\"0 0 24 24\"\n",
              "     width=\"24px\">\n",
              "    <g>\n",
              "        <path d=\"M19 3H5c-1.1 0-2 .9-2 2v14c0 1.1.9 2 2 2h14c1.1 0 2-.9 2-2V5c0-1.1-.9-2-2-2zM9 17H7v-7h2v7zm4 0h-2V7h2v10zm4 0h-2v-4h2v4z\"/>\n",
              "    </g>\n",
              "</svg>\n",
              "  </button>\n",
              "\n",
              "<style>\n",
              "  .colab-df-quickchart {\n",
              "      --bg-color: #E8F0FE;\n",
              "      --fill-color: #1967D2;\n",
              "      --hover-bg-color: #E2EBFA;\n",
              "      --hover-fill-color: #174EA6;\n",
              "      --disabled-fill-color: #AAA;\n",
              "      --disabled-bg-color: #DDD;\n",
              "  }\n",
              "\n",
              "  [theme=dark] .colab-df-quickchart {\n",
              "      --bg-color: #3B4455;\n",
              "      --fill-color: #D2E3FC;\n",
              "      --hover-bg-color: #434B5C;\n",
              "      --hover-fill-color: #FFFFFF;\n",
              "      --disabled-bg-color: #3B4455;\n",
              "      --disabled-fill-color: #666;\n",
              "  }\n",
              "\n",
              "  .colab-df-quickchart {\n",
              "    background-color: var(--bg-color);\n",
              "    border: none;\n",
              "    border-radius: 50%;\n",
              "    cursor: pointer;\n",
              "    display: none;\n",
              "    fill: var(--fill-color);\n",
              "    height: 32px;\n",
              "    padding: 0;\n",
              "    width: 32px;\n",
              "  }\n",
              "\n",
              "  .colab-df-quickchart:hover {\n",
              "    background-color: var(--hover-bg-color);\n",
              "    box-shadow: 0 1px 2px rgba(60, 64, 67, 0.3), 0 1px 3px 1px rgba(60, 64, 67, 0.15);\n",
              "    fill: var(--button-hover-fill-color);\n",
              "  }\n",
              "\n",
              "  .colab-df-quickchart-complete:disabled,\n",
              "  .colab-df-quickchart-complete:disabled:hover {\n",
              "    background-color: var(--disabled-bg-color);\n",
              "    fill: var(--disabled-fill-color);\n",
              "    box-shadow: none;\n",
              "  }\n",
              "\n",
              "  .colab-df-spinner {\n",
              "    border: 2px solid var(--fill-color);\n",
              "    border-color: transparent;\n",
              "    border-bottom-color: var(--fill-color);\n",
              "    animation:\n",
              "      spin 1s steps(1) infinite;\n",
              "  }\n",
              "\n",
              "  @keyframes spin {\n",
              "    0% {\n",
              "      border-color: transparent;\n",
              "      border-bottom-color: var(--fill-color);\n",
              "      border-left-color: var(--fill-color);\n",
              "    }\n",
              "    20% {\n",
              "      border-color: transparent;\n",
              "      border-left-color: var(--fill-color);\n",
              "      border-top-color: var(--fill-color);\n",
              "    }\n",
              "    30% {\n",
              "      border-color: transparent;\n",
              "      border-left-color: var(--fill-color);\n",
              "      border-top-color: var(--fill-color);\n",
              "      border-right-color: var(--fill-color);\n",
              "    }\n",
              "    40% {\n",
              "      border-color: transparent;\n",
              "      border-right-color: var(--fill-color);\n",
              "      border-top-color: var(--fill-color);\n",
              "    }\n",
              "    60% {\n",
              "      border-color: transparent;\n",
              "      border-right-color: var(--fill-color);\n",
              "    }\n",
              "    80% {\n",
              "      border-color: transparent;\n",
              "      border-right-color: var(--fill-color);\n",
              "      border-bottom-color: var(--fill-color);\n",
              "    }\n",
              "    90% {\n",
              "      border-color: transparent;\n",
              "      border-bottom-color: var(--fill-color);\n",
              "    }\n",
              "  }\n",
              "</style>\n",
              "\n",
              "  <script>\n",
              "    async function quickchart(key) {\n",
              "      const quickchartButtonEl =\n",
              "        document.querySelector('#' + key + ' button');\n",
              "      quickchartButtonEl.disabled = true;  // To prevent multiple clicks.\n",
              "      quickchartButtonEl.classList.add('colab-df-spinner');\n",
              "      try {\n",
              "        const charts = await google.colab.kernel.invokeFunction(\n",
              "            'suggestCharts', [key], {});\n",
              "      } catch (error) {\n",
              "        console.error('Error during call to suggestCharts:', error);\n",
              "      }\n",
              "      quickchartButtonEl.classList.remove('colab-df-spinner');\n",
              "      quickchartButtonEl.classList.add('colab-df-quickchart-complete');\n",
              "    }\n",
              "    (() => {\n",
              "      let quickchartButtonEl =\n",
              "        document.querySelector('#df-c62cba8e-58db-411d-ae3a-aa31c3664539 button');\n",
              "      quickchartButtonEl.style.display =\n",
              "        google.colab.kernel.accessAllowed ? 'block' : 'none';\n",
              "    })();\n",
              "  </script>\n",
              "</div>\n",
              "    </div>\n",
              "  </div>\n"
            ]
          },
          "metadata": {},
          "execution_count": 41
        }
      ],
      "source": [
        "cars['zscore'] = (cars['Price'] - cars['Price'].mean()) / cars['Price'].std()\n",
        "cars.head()"
      ],
      "id": "ebff9f4d"
    },
    {
      "cell_type": "code",
      "execution_count": 42,
      "metadata": {
        "colab": {
          "base_uri": "https://localhost:8080/",
          "height": 206
        },
        "id": "36c2b7b2",
        "outputId": "14ee4a12-d8eb-4367-d5ee-ed8b784fa7bc"
      },
      "outputs": [
        {
          "output_type": "execute_result",
          "data": {
            "text/plain": [
              "             Name                Variant Transmission  km_driven Owner_Type  \\\n",
              "0      KIA SELTOS        GTX + AT PETROL    Automatic       8241  1st Owner   \n",
              "4   Mercedes Benz       C 200 AVANTGARDE    Automatic      37531  1st Owner   \n",
              "34      MG HECTOR    SHARP HYBRID PETROL       Manual      12185  2nd Owner   \n",
              "37   Jeep Compass  1.4  LONGITUDE (O) AT    Automatic      23327  1st Owner   \n",
              "38   Jeep Compass            2.0 LIMITED       Manual      46860  1st Owner   \n",
              "\n",
              "      Fuel    Price  Age    zscore  \n",
              "0   Petrol  1895199    3  3.225112  \n",
              "4   Petrol  2033499    9  3.594840  \n",
              "34  Petrol  1848299    3  3.099731  \n",
              "37  Petrol  2012799    4  3.539501  \n",
              "38  Diesel  1941699    4  3.349424  "
            ],
            "text/html": [
              "\n",
              "  <div id=\"df-7a5ceb6f-9361-4e7d-aa74-60898abe05f8\" class=\"colab-df-container\">\n",
              "    <div>\n",
              "<style scoped>\n",
              "    .dataframe tbody tr th:only-of-type {\n",
              "        vertical-align: middle;\n",
              "    }\n",
              "\n",
              "    .dataframe tbody tr th {\n",
              "        vertical-align: top;\n",
              "    }\n",
              "\n",
              "    .dataframe thead th {\n",
              "        text-align: right;\n",
              "    }\n",
              "</style>\n",
              "<table border=\"1\" class=\"dataframe\">\n",
              "  <thead>\n",
              "    <tr style=\"text-align: right;\">\n",
              "      <th></th>\n",
              "      <th>Name</th>\n",
              "      <th>Variant</th>\n",
              "      <th>Transmission</th>\n",
              "      <th>km_driven</th>\n",
              "      <th>Owner_Type</th>\n",
              "      <th>Fuel</th>\n",
              "      <th>Price</th>\n",
              "      <th>Age</th>\n",
              "      <th>zscore</th>\n",
              "    </tr>\n",
              "  </thead>\n",
              "  <tbody>\n",
              "    <tr>\n",
              "      <th>0</th>\n",
              "      <td>KIA SELTOS</td>\n",
              "      <td>GTX + AT PETROL</td>\n",
              "      <td>Automatic</td>\n",
              "      <td>8241</td>\n",
              "      <td>1st Owner</td>\n",
              "      <td>Petrol</td>\n",
              "      <td>1895199</td>\n",
              "      <td>3</td>\n",
              "      <td>3.225112</td>\n",
              "    </tr>\n",
              "    <tr>\n",
              "      <th>4</th>\n",
              "      <td>Mercedes Benz</td>\n",
              "      <td>C 200 AVANTGARDE</td>\n",
              "      <td>Automatic</td>\n",
              "      <td>37531</td>\n",
              "      <td>1st Owner</td>\n",
              "      <td>Petrol</td>\n",
              "      <td>2033499</td>\n",
              "      <td>9</td>\n",
              "      <td>3.594840</td>\n",
              "    </tr>\n",
              "    <tr>\n",
              "      <th>34</th>\n",
              "      <td>MG HECTOR</td>\n",
              "      <td>SHARP HYBRID PETROL</td>\n",
              "      <td>Manual</td>\n",
              "      <td>12185</td>\n",
              "      <td>2nd Owner</td>\n",
              "      <td>Petrol</td>\n",
              "      <td>1848299</td>\n",
              "      <td>3</td>\n",
              "      <td>3.099731</td>\n",
              "    </tr>\n",
              "    <tr>\n",
              "      <th>37</th>\n",
              "      <td>Jeep Compass</td>\n",
              "      <td>1.4  LONGITUDE (O) AT</td>\n",
              "      <td>Automatic</td>\n",
              "      <td>23327</td>\n",
              "      <td>1st Owner</td>\n",
              "      <td>Petrol</td>\n",
              "      <td>2012799</td>\n",
              "      <td>4</td>\n",
              "      <td>3.539501</td>\n",
              "    </tr>\n",
              "    <tr>\n",
              "      <th>38</th>\n",
              "      <td>Jeep Compass</td>\n",
              "      <td>2.0 LIMITED</td>\n",
              "      <td>Manual</td>\n",
              "      <td>46860</td>\n",
              "      <td>1st Owner</td>\n",
              "      <td>Diesel</td>\n",
              "      <td>1941699</td>\n",
              "      <td>4</td>\n",
              "      <td>3.349424</td>\n",
              "    </tr>\n",
              "  </tbody>\n",
              "</table>\n",
              "</div>\n",
              "    <div class=\"colab-df-buttons\">\n",
              "\n",
              "  <div class=\"colab-df-container\">\n",
              "    <button class=\"colab-df-convert\" onclick=\"convertToInteractive('df-7a5ceb6f-9361-4e7d-aa74-60898abe05f8')\"\n",
              "            title=\"Convert this dataframe to an interactive table.\"\n",
              "            style=\"display:none;\">\n",
              "\n",
              "  <svg xmlns=\"http://www.w3.org/2000/svg\" height=\"24px\" viewBox=\"0 -960 960 960\">\n",
              "    <path d=\"M120-120v-720h720v720H120Zm60-500h600v-160H180v160Zm220 220h160v-160H400v160Zm0 220h160v-160H400v160ZM180-400h160v-160H180v160Zm440 0h160v-160H620v160ZM180-180h160v-160H180v160Zm440 0h160v-160H620v160Z\"/>\n",
              "  </svg>\n",
              "    </button>\n",
              "\n",
              "  <style>\n",
              "    .colab-df-container {\n",
              "      display:flex;\n",
              "      gap: 12px;\n",
              "    }\n",
              "\n",
              "    .colab-df-convert {\n",
              "      background-color: #E8F0FE;\n",
              "      border: none;\n",
              "      border-radius: 50%;\n",
              "      cursor: pointer;\n",
              "      display: none;\n",
              "      fill: #1967D2;\n",
              "      height: 32px;\n",
              "      padding: 0 0 0 0;\n",
              "      width: 32px;\n",
              "    }\n",
              "\n",
              "    .colab-df-convert:hover {\n",
              "      background-color: #E2EBFA;\n",
              "      box-shadow: 0px 1px 2px rgba(60, 64, 67, 0.3), 0px 1px 3px 1px rgba(60, 64, 67, 0.15);\n",
              "      fill: #174EA6;\n",
              "    }\n",
              "\n",
              "    .colab-df-buttons div {\n",
              "      margin-bottom: 4px;\n",
              "    }\n",
              "\n",
              "    [theme=dark] .colab-df-convert {\n",
              "      background-color: #3B4455;\n",
              "      fill: #D2E3FC;\n",
              "    }\n",
              "\n",
              "    [theme=dark] .colab-df-convert:hover {\n",
              "      background-color: #434B5C;\n",
              "      box-shadow: 0px 1px 3px 1px rgba(0, 0, 0, 0.15);\n",
              "      filter: drop-shadow(0px 1px 2px rgba(0, 0, 0, 0.3));\n",
              "      fill: #FFFFFF;\n",
              "    }\n",
              "  </style>\n",
              "\n",
              "    <script>\n",
              "      const buttonEl =\n",
              "        document.querySelector('#df-7a5ceb6f-9361-4e7d-aa74-60898abe05f8 button.colab-df-convert');\n",
              "      buttonEl.style.display =\n",
              "        google.colab.kernel.accessAllowed ? 'block' : 'none';\n",
              "\n",
              "      async function convertToInteractive(key) {\n",
              "        const element = document.querySelector('#df-7a5ceb6f-9361-4e7d-aa74-60898abe05f8');\n",
              "        const dataTable =\n",
              "          await google.colab.kernel.invokeFunction('convertToInteractive',\n",
              "                                                    [key], {});\n",
              "        if (!dataTable) return;\n",
              "\n",
              "        const docLinkHtml = 'Like what you see? Visit the ' +\n",
              "          '<a target=\"_blank\" href=https://colab.research.google.com/notebooks/data_table.ipynb>data table notebook</a>'\n",
              "          + ' to learn more about interactive tables.';\n",
              "        element.innerHTML = '';\n",
              "        dataTable['output_type'] = 'display_data';\n",
              "        await google.colab.output.renderOutput(dataTable, element);\n",
              "        const docLink = document.createElement('div');\n",
              "        docLink.innerHTML = docLinkHtml;\n",
              "        element.appendChild(docLink);\n",
              "      }\n",
              "    </script>\n",
              "  </div>\n",
              "\n",
              "\n",
              "<div id=\"df-40e1b131-150f-40e0-a28c-bb084bebebf0\">\n",
              "  <button class=\"colab-df-quickchart\" onclick=\"quickchart('df-40e1b131-150f-40e0-a28c-bb084bebebf0')\"\n",
              "            title=\"Suggest charts.\"\n",
              "            style=\"display:none;\">\n",
              "\n",
              "<svg xmlns=\"http://www.w3.org/2000/svg\" height=\"24px\"viewBox=\"0 0 24 24\"\n",
              "     width=\"24px\">\n",
              "    <g>\n",
              "        <path d=\"M19 3H5c-1.1 0-2 .9-2 2v14c0 1.1.9 2 2 2h14c1.1 0 2-.9 2-2V5c0-1.1-.9-2-2-2zM9 17H7v-7h2v7zm4 0h-2V7h2v10zm4 0h-2v-4h2v4z\"/>\n",
              "    </g>\n",
              "</svg>\n",
              "  </button>\n",
              "\n",
              "<style>\n",
              "  .colab-df-quickchart {\n",
              "      --bg-color: #E8F0FE;\n",
              "      --fill-color: #1967D2;\n",
              "      --hover-bg-color: #E2EBFA;\n",
              "      --hover-fill-color: #174EA6;\n",
              "      --disabled-fill-color: #AAA;\n",
              "      --disabled-bg-color: #DDD;\n",
              "  }\n",
              "\n",
              "  [theme=dark] .colab-df-quickchart {\n",
              "      --bg-color: #3B4455;\n",
              "      --fill-color: #D2E3FC;\n",
              "      --hover-bg-color: #434B5C;\n",
              "      --hover-fill-color: #FFFFFF;\n",
              "      --disabled-bg-color: #3B4455;\n",
              "      --disabled-fill-color: #666;\n",
              "  }\n",
              "\n",
              "  .colab-df-quickchart {\n",
              "    background-color: var(--bg-color);\n",
              "    border: none;\n",
              "    border-radius: 50%;\n",
              "    cursor: pointer;\n",
              "    display: none;\n",
              "    fill: var(--fill-color);\n",
              "    height: 32px;\n",
              "    padding: 0;\n",
              "    width: 32px;\n",
              "  }\n",
              "\n",
              "  .colab-df-quickchart:hover {\n",
              "    background-color: var(--hover-bg-color);\n",
              "    box-shadow: 0 1px 2px rgba(60, 64, 67, 0.3), 0 1px 3px 1px rgba(60, 64, 67, 0.15);\n",
              "    fill: var(--button-hover-fill-color);\n",
              "  }\n",
              "\n",
              "  .colab-df-quickchart-complete:disabled,\n",
              "  .colab-df-quickchart-complete:disabled:hover {\n",
              "    background-color: var(--disabled-bg-color);\n",
              "    fill: var(--disabled-fill-color);\n",
              "    box-shadow: none;\n",
              "  }\n",
              "\n",
              "  .colab-df-spinner {\n",
              "    border: 2px solid var(--fill-color);\n",
              "    border-color: transparent;\n",
              "    border-bottom-color: var(--fill-color);\n",
              "    animation:\n",
              "      spin 1s steps(1) infinite;\n",
              "  }\n",
              "\n",
              "  @keyframes spin {\n",
              "    0% {\n",
              "      border-color: transparent;\n",
              "      border-bottom-color: var(--fill-color);\n",
              "      border-left-color: var(--fill-color);\n",
              "    }\n",
              "    20% {\n",
              "      border-color: transparent;\n",
              "      border-left-color: var(--fill-color);\n",
              "      border-top-color: var(--fill-color);\n",
              "    }\n",
              "    30% {\n",
              "      border-color: transparent;\n",
              "      border-left-color: var(--fill-color);\n",
              "      border-top-color: var(--fill-color);\n",
              "      border-right-color: var(--fill-color);\n",
              "    }\n",
              "    40% {\n",
              "      border-color: transparent;\n",
              "      border-right-color: var(--fill-color);\n",
              "      border-top-color: var(--fill-color);\n",
              "    }\n",
              "    60% {\n",
              "      border-color: transparent;\n",
              "      border-right-color: var(--fill-color);\n",
              "    }\n",
              "    80% {\n",
              "      border-color: transparent;\n",
              "      border-right-color: var(--fill-color);\n",
              "      border-bottom-color: var(--fill-color);\n",
              "    }\n",
              "    90% {\n",
              "      border-color: transparent;\n",
              "      border-bottom-color: var(--fill-color);\n",
              "    }\n",
              "  }\n",
              "</style>\n",
              "\n",
              "  <script>\n",
              "    async function quickchart(key) {\n",
              "      const quickchartButtonEl =\n",
              "        document.querySelector('#' + key + ' button');\n",
              "      quickchartButtonEl.disabled = true;  // To prevent multiple clicks.\n",
              "      quickchartButtonEl.classList.add('colab-df-spinner');\n",
              "      try {\n",
              "        const charts = await google.colab.kernel.invokeFunction(\n",
              "            'suggestCharts', [key], {});\n",
              "      } catch (error) {\n",
              "        console.error('Error during call to suggestCharts:', error);\n",
              "      }\n",
              "      quickchartButtonEl.classList.remove('colab-df-spinner');\n",
              "      quickchartButtonEl.classList.add('colab-df-quickchart-complete');\n",
              "    }\n",
              "    (() => {\n",
              "      let quickchartButtonEl =\n",
              "        document.querySelector('#df-40e1b131-150f-40e0-a28c-bb084bebebf0 button');\n",
              "      quickchartButtonEl.style.display =\n",
              "        google.colab.kernel.accessAllowed ? 'block' : 'none';\n",
              "    })();\n",
              "  </script>\n",
              "</div>\n",
              "    </div>\n",
              "  </div>\n"
            ]
          },
          "metadata": {},
          "execution_count": 42
        }
      ],
      "source": [
        "outliers = cars[(cars['zscore'] < -3) | (cars['zscore'] > 3)]\n",
        "outliers.head()"
      ],
      "id": "36c2b7b2"
    },
    {
      "cell_type": "code",
      "execution_count": 43,
      "metadata": {
        "colab": {
          "base_uri": "https://localhost:8080/"
        },
        "id": "8b3e1bd9",
        "outputId": "2cf4a0e0-3277-4216-be32-a50ed082aecc"
      },
      "outputs": [
        {
          "output_type": "execute_result",
          "data": {
            "text/plain": [
              "(12, 9)"
            ]
          },
          "metadata": {},
          "execution_count": 43
        }
      ],
      "source": [
        "outliers.shape"
      ],
      "id": "8b3e1bd9"
    },
    {
      "cell_type": "code",
      "execution_count": 44,
      "metadata": {
        "colab": {
          "base_uri": "https://localhost:8080/",
          "height": 206
        },
        "id": "9cdea307",
        "outputId": "eb029cd3-1dd1-4e6d-d687-b9c3c3a83369"
      },
      "outputs": [
        {
          "output_type": "execute_result",
          "data": {
            "text/plain": [
              "           Name            Variant Transmission  km_driven Owner_Type    Fuel  \\\n",
              "1  Maruti Swift                LXI       Manual      10568  1st Owner  Petrol   \n",
              "2  Maruti Swift                LXI       Manual      27659  1st Owner  Petrol   \n",
              "3    KIA SELTOS  HTX 1.5 PETROL MT       Manual      32799  1st Owner  Petrol   \n",
              "6   Hyundai i10       ERA 1.1 IRDE       Manual      37928  1st Owner  Petrol   \n",
              "7    Honda City       VX MT PETROL       Manual      61168  2nd Owner  Petrol   \n",
              "\n",
              "     Price  Age    zscore  \n",
              "1   592499    3 -0.257488  \n",
              "2   533399    4 -0.415484  \n",
              "3  1383099    3  1.856079  \n",
              "6   271699   10 -1.115106  \n",
              "7   658499    9 -0.081046  "
            ],
            "text/html": [
              "\n",
              "  <div id=\"df-7fae473e-50f3-434b-aec0-83af643bb32f\" class=\"colab-df-container\">\n",
              "    <div>\n",
              "<style scoped>\n",
              "    .dataframe tbody tr th:only-of-type {\n",
              "        vertical-align: middle;\n",
              "    }\n",
              "\n",
              "    .dataframe tbody tr th {\n",
              "        vertical-align: top;\n",
              "    }\n",
              "\n",
              "    .dataframe thead th {\n",
              "        text-align: right;\n",
              "    }\n",
              "</style>\n",
              "<table border=\"1\" class=\"dataframe\">\n",
              "  <thead>\n",
              "    <tr style=\"text-align: right;\">\n",
              "      <th></th>\n",
              "      <th>Name</th>\n",
              "      <th>Variant</th>\n",
              "      <th>Transmission</th>\n",
              "      <th>km_driven</th>\n",
              "      <th>Owner_Type</th>\n",
              "      <th>Fuel</th>\n",
              "      <th>Price</th>\n",
              "      <th>Age</th>\n",
              "      <th>zscore</th>\n",
              "    </tr>\n",
              "  </thead>\n",
              "  <tbody>\n",
              "    <tr>\n",
              "      <th>1</th>\n",
              "      <td>Maruti Swift</td>\n",
              "      <td>LXI</td>\n",
              "      <td>Manual</td>\n",
              "      <td>10568</td>\n",
              "      <td>1st Owner</td>\n",
              "      <td>Petrol</td>\n",
              "      <td>592499</td>\n",
              "      <td>3</td>\n",
              "      <td>-0.257488</td>\n",
              "    </tr>\n",
              "    <tr>\n",
              "      <th>2</th>\n",
              "      <td>Maruti Swift</td>\n",
              "      <td>LXI</td>\n",
              "      <td>Manual</td>\n",
              "      <td>27659</td>\n",
              "      <td>1st Owner</td>\n",
              "      <td>Petrol</td>\n",
              "      <td>533399</td>\n",
              "      <td>4</td>\n",
              "      <td>-0.415484</td>\n",
              "    </tr>\n",
              "    <tr>\n",
              "      <th>3</th>\n",
              "      <td>KIA SELTOS</td>\n",
              "      <td>HTX 1.5 PETROL MT</td>\n",
              "      <td>Manual</td>\n",
              "      <td>32799</td>\n",
              "      <td>1st Owner</td>\n",
              "      <td>Petrol</td>\n",
              "      <td>1383099</td>\n",
              "      <td>3</td>\n",
              "      <td>1.856079</td>\n",
              "    </tr>\n",
              "    <tr>\n",
              "      <th>6</th>\n",
              "      <td>Hyundai i10</td>\n",
              "      <td>ERA 1.1 IRDE</td>\n",
              "      <td>Manual</td>\n",
              "      <td>37928</td>\n",
              "      <td>1st Owner</td>\n",
              "      <td>Petrol</td>\n",
              "      <td>271699</td>\n",
              "      <td>10</td>\n",
              "      <td>-1.115106</td>\n",
              "    </tr>\n",
              "    <tr>\n",
              "      <th>7</th>\n",
              "      <td>Honda City</td>\n",
              "      <td>VX MT PETROL</td>\n",
              "      <td>Manual</td>\n",
              "      <td>61168</td>\n",
              "      <td>2nd Owner</td>\n",
              "      <td>Petrol</td>\n",
              "      <td>658499</td>\n",
              "      <td>9</td>\n",
              "      <td>-0.081046</td>\n",
              "    </tr>\n",
              "  </tbody>\n",
              "</table>\n",
              "</div>\n",
              "    <div class=\"colab-df-buttons\">\n",
              "\n",
              "  <div class=\"colab-df-container\">\n",
              "    <button class=\"colab-df-convert\" onclick=\"convertToInteractive('df-7fae473e-50f3-434b-aec0-83af643bb32f')\"\n",
              "            title=\"Convert this dataframe to an interactive table.\"\n",
              "            style=\"display:none;\">\n",
              "\n",
              "  <svg xmlns=\"http://www.w3.org/2000/svg\" height=\"24px\" viewBox=\"0 -960 960 960\">\n",
              "    <path d=\"M120-120v-720h720v720H120Zm60-500h600v-160H180v160Zm220 220h160v-160H400v160Zm0 220h160v-160H400v160ZM180-400h160v-160H180v160Zm440 0h160v-160H620v160ZM180-180h160v-160H180v160Zm440 0h160v-160H620v160Z\"/>\n",
              "  </svg>\n",
              "    </button>\n",
              "\n",
              "  <style>\n",
              "    .colab-df-container {\n",
              "      display:flex;\n",
              "      gap: 12px;\n",
              "    }\n",
              "\n",
              "    .colab-df-convert {\n",
              "      background-color: #E8F0FE;\n",
              "      border: none;\n",
              "      border-radius: 50%;\n",
              "      cursor: pointer;\n",
              "      display: none;\n",
              "      fill: #1967D2;\n",
              "      height: 32px;\n",
              "      padding: 0 0 0 0;\n",
              "      width: 32px;\n",
              "    }\n",
              "\n",
              "    .colab-df-convert:hover {\n",
              "      background-color: #E2EBFA;\n",
              "      box-shadow: 0px 1px 2px rgba(60, 64, 67, 0.3), 0px 1px 3px 1px rgba(60, 64, 67, 0.15);\n",
              "      fill: #174EA6;\n",
              "    }\n",
              "\n",
              "    .colab-df-buttons div {\n",
              "      margin-bottom: 4px;\n",
              "    }\n",
              "\n",
              "    [theme=dark] .colab-df-convert {\n",
              "      background-color: #3B4455;\n",
              "      fill: #D2E3FC;\n",
              "    }\n",
              "\n",
              "    [theme=dark] .colab-df-convert:hover {\n",
              "      background-color: #434B5C;\n",
              "      box-shadow: 0px 1px 3px 1px rgba(0, 0, 0, 0.15);\n",
              "      filter: drop-shadow(0px 1px 2px rgba(0, 0, 0, 0.3));\n",
              "      fill: #FFFFFF;\n",
              "    }\n",
              "  </style>\n",
              "\n",
              "    <script>\n",
              "      const buttonEl =\n",
              "        document.querySelector('#df-7fae473e-50f3-434b-aec0-83af643bb32f button.colab-df-convert');\n",
              "      buttonEl.style.display =\n",
              "        google.colab.kernel.accessAllowed ? 'block' : 'none';\n",
              "\n",
              "      async function convertToInteractive(key) {\n",
              "        const element = document.querySelector('#df-7fae473e-50f3-434b-aec0-83af643bb32f');\n",
              "        const dataTable =\n",
              "          await google.colab.kernel.invokeFunction('convertToInteractive',\n",
              "                                                    [key], {});\n",
              "        if (!dataTable) return;\n",
              "\n",
              "        const docLinkHtml = 'Like what you see? Visit the ' +\n",
              "          '<a target=\"_blank\" href=https://colab.research.google.com/notebooks/data_table.ipynb>data table notebook</a>'\n",
              "          + ' to learn more about interactive tables.';\n",
              "        element.innerHTML = '';\n",
              "        dataTable['output_type'] = 'display_data';\n",
              "        await google.colab.output.renderOutput(dataTable, element);\n",
              "        const docLink = document.createElement('div');\n",
              "        docLink.innerHTML = docLinkHtml;\n",
              "        element.appendChild(docLink);\n",
              "      }\n",
              "    </script>\n",
              "  </div>\n",
              "\n",
              "\n",
              "<div id=\"df-9c3dbbed-2c94-4b43-9350-665f0bf2fb14\">\n",
              "  <button class=\"colab-df-quickchart\" onclick=\"quickchart('df-9c3dbbed-2c94-4b43-9350-665f0bf2fb14')\"\n",
              "            title=\"Suggest charts.\"\n",
              "            style=\"display:none;\">\n",
              "\n",
              "<svg xmlns=\"http://www.w3.org/2000/svg\" height=\"24px\"viewBox=\"0 0 24 24\"\n",
              "     width=\"24px\">\n",
              "    <g>\n",
              "        <path d=\"M19 3H5c-1.1 0-2 .9-2 2v14c0 1.1.9 2 2 2h14c1.1 0 2-.9 2-2V5c0-1.1-.9-2-2-2zM9 17H7v-7h2v7zm4 0h-2V7h2v10zm4 0h-2v-4h2v4z\"/>\n",
              "    </g>\n",
              "</svg>\n",
              "  </button>\n",
              "\n",
              "<style>\n",
              "  .colab-df-quickchart {\n",
              "      --bg-color: #E8F0FE;\n",
              "      --fill-color: #1967D2;\n",
              "      --hover-bg-color: #E2EBFA;\n",
              "      --hover-fill-color: #174EA6;\n",
              "      --disabled-fill-color: #AAA;\n",
              "      --disabled-bg-color: #DDD;\n",
              "  }\n",
              "\n",
              "  [theme=dark] .colab-df-quickchart {\n",
              "      --bg-color: #3B4455;\n",
              "      --fill-color: #D2E3FC;\n",
              "      --hover-bg-color: #434B5C;\n",
              "      --hover-fill-color: #FFFFFF;\n",
              "      --disabled-bg-color: #3B4455;\n",
              "      --disabled-fill-color: #666;\n",
              "  }\n",
              "\n",
              "  .colab-df-quickchart {\n",
              "    background-color: var(--bg-color);\n",
              "    border: none;\n",
              "    border-radius: 50%;\n",
              "    cursor: pointer;\n",
              "    display: none;\n",
              "    fill: var(--fill-color);\n",
              "    height: 32px;\n",
              "    padding: 0;\n",
              "    width: 32px;\n",
              "  }\n",
              "\n",
              "  .colab-df-quickchart:hover {\n",
              "    background-color: var(--hover-bg-color);\n",
              "    box-shadow: 0 1px 2px rgba(60, 64, 67, 0.3), 0 1px 3px 1px rgba(60, 64, 67, 0.15);\n",
              "    fill: var(--button-hover-fill-color);\n",
              "  }\n",
              "\n",
              "  .colab-df-quickchart-complete:disabled,\n",
              "  .colab-df-quickchart-complete:disabled:hover {\n",
              "    background-color: var(--disabled-bg-color);\n",
              "    fill: var(--disabled-fill-color);\n",
              "    box-shadow: none;\n",
              "  }\n",
              "\n",
              "  .colab-df-spinner {\n",
              "    border: 2px solid var(--fill-color);\n",
              "    border-color: transparent;\n",
              "    border-bottom-color: var(--fill-color);\n",
              "    animation:\n",
              "      spin 1s steps(1) infinite;\n",
              "  }\n",
              "\n",
              "  @keyframes spin {\n",
              "    0% {\n",
              "      border-color: transparent;\n",
              "      border-bottom-color: var(--fill-color);\n",
              "      border-left-color: var(--fill-color);\n",
              "    }\n",
              "    20% {\n",
              "      border-color: transparent;\n",
              "      border-left-color: var(--fill-color);\n",
              "      border-top-color: var(--fill-color);\n",
              "    }\n",
              "    30% {\n",
              "      border-color: transparent;\n",
              "      border-left-color: var(--fill-color);\n",
              "      border-top-color: var(--fill-color);\n",
              "      border-right-color: var(--fill-color);\n",
              "    }\n",
              "    40% {\n",
              "      border-color: transparent;\n",
              "      border-right-color: var(--fill-color);\n",
              "      border-top-color: var(--fill-color);\n",
              "    }\n",
              "    60% {\n",
              "      border-color: transparent;\n",
              "      border-right-color: var(--fill-color);\n",
              "    }\n",
              "    80% {\n",
              "      border-color: transparent;\n",
              "      border-right-color: var(--fill-color);\n",
              "      border-bottom-color: var(--fill-color);\n",
              "    }\n",
              "    90% {\n",
              "      border-color: transparent;\n",
              "      border-bottom-color: var(--fill-color);\n",
              "    }\n",
              "  }\n",
              "</style>\n",
              "\n",
              "  <script>\n",
              "    async function quickchart(key) {\n",
              "      const quickchartButtonEl =\n",
              "        document.querySelector('#' + key + ' button');\n",
              "      quickchartButtonEl.disabled = true;  // To prevent multiple clicks.\n",
              "      quickchartButtonEl.classList.add('colab-df-spinner');\n",
              "      try {\n",
              "        const charts = await google.colab.kernel.invokeFunction(\n",
              "            'suggestCharts', [key], {});\n",
              "      } catch (error) {\n",
              "        console.error('Error during call to suggestCharts:', error);\n",
              "      }\n",
              "      quickchartButtonEl.classList.remove('colab-df-spinner');\n",
              "      quickchartButtonEl.classList.add('colab-df-quickchart-complete');\n",
              "    }\n",
              "    (() => {\n",
              "      let quickchartButtonEl =\n",
              "        document.querySelector('#df-9c3dbbed-2c94-4b43-9350-665f0bf2fb14 button');\n",
              "      quickchartButtonEl.style.display =\n",
              "        google.colab.kernel.accessAllowed ? 'block' : 'none';\n",
              "    })();\n",
              "  </script>\n",
              "</div>\n",
              "    </div>\n",
              "  </div>\n"
            ]
          },
          "metadata": {},
          "execution_count": 44
        }
      ],
      "source": [
        "cars = cars[(cars['zscore'] > -3) & (cars['zscore'] < 3)]\n",
        "cars.head()"
      ],
      "id": "9cdea307"
    },
    {
      "cell_type": "code",
      "execution_count": 45,
      "metadata": {
        "id": "3bd79a30"
      },
      "outputs": [],
      "source": [
        "del cars[\"zscore\"]"
      ],
      "id": "3bd79a30"
    },
    {
      "cell_type": "markdown",
      "metadata": {
        "id": "bee2538c"
      },
      "source": [
        "##### 6.2. One Hot Encoding"
      ],
      "id": "bee2538c"
    },
    {
      "cell_type": "code",
      "execution_count": 46,
      "metadata": {
        "id": "3RII-AsXfqPY"
      },
      "outputs": [],
      "source": [
        "cars = pd.get_dummies(data=cars, columns=['Name','Variant','Transmission','Owner_Type','Fuel'])"
      ],
      "id": "3RII-AsXfqPY"
    },
    {
      "cell_type": "markdown",
      "metadata": {
        "id": "c01fb68a"
      },
      "source": [
        "##### 6.3. Splitting Data into X and y"
      ],
      "id": "c01fb68a"
    },
    {
      "cell_type": "code",
      "execution_count": 47,
      "metadata": {
        "id": "a3d24c3a"
      },
      "outputs": [],
      "source": [
        "X = cars.drop(columns =['Price'])\n",
        "y = cars['Price']"
      ],
      "id": "a3d24c3a"
    },
    {
      "cell_type": "code",
      "execution_count": 48,
      "metadata": {
        "id": "2uARg3vLhIvi"
      },
      "outputs": [],
      "source": [
        "from sklearn.model_selection import train_test_split\n",
        "\n",
        "X_train, X_test, y_train, y_test = train_test_split(X, y, test_size=0.3, random_state=1)"
      ],
      "id": "2uARg3vLhIvi"
    },
    {
      "cell_type": "code",
      "execution_count": 49,
      "metadata": {
        "colab": {
          "base_uri": "https://localhost:8080/"
        },
        "id": "vJe7QyzUntgL",
        "outputId": "cc4a4839-5562-4664-ea04-bc7b7216ebab"
      },
      "outputs": [
        {
          "output_type": "stream",
          "name": "stdout",
          "text": [
            "X-Train: 333\n"
          ]
        }
      ],
      "source": [
        "print(\"X-Train:\", X_train.shape[1])"
      ],
      "id": "vJe7QyzUntgL"
    },
    {
      "cell_type": "markdown",
      "metadata": {
        "id": "19f52698"
      },
      "source": [
        "##### 6.4. Standard Scaler"
      ],
      "id": "19f52698"
    },
    {
      "cell_type": "code",
      "execution_count": 50,
      "metadata": {
        "id": "Fof0_rb-gVsR"
      },
      "outputs": [],
      "source": [
        "from sklearn.preprocessing import StandardScaler\n",
        "\n",
        "scaler = StandardScaler(with_mean=False)"
      ],
      "id": "Fof0_rb-gVsR"
    },
    {
      "cell_type": "code",
      "source": [
        "X_train.loc[:,['km_driven', 'Age']] = scaler.fit_transform(X_train.loc[:,['km_driven', 'Age']].to_numpy())\n",
        "X_train.loc[:,['km_driven', 'Age']].head()"
      ],
      "metadata": {
        "colab": {
          "base_uri": "https://localhost:8080/",
          "height": 206
        },
        "id": "uDpjVkvGMEK8",
        "outputId": "02b6a0f4-e1d6-4c5f-9cbc-27f0a75e0947"
      },
      "id": "uDpjVkvGMEK8",
      "execution_count": 51,
      "outputs": [
        {
          "output_type": "execute_result",
          "data": {
            "text/plain": [
              "     km_driven       Age\n",
              "72    1.109006  4.042672\n",
              "202   1.949730  1.617069\n",
              "436   2.857826  2.425603\n",
              "56    0.555307  1.212802\n",
              "289   0.286440  1.212802"
            ],
            "text/html": [
              "\n",
              "  <div id=\"df-6b11f53f-5b6f-4ccf-8505-1b9e37e6a036\" class=\"colab-df-container\">\n",
              "    <div>\n",
              "<style scoped>\n",
              "    .dataframe tbody tr th:only-of-type {\n",
              "        vertical-align: middle;\n",
              "    }\n",
              "\n",
              "    .dataframe tbody tr th {\n",
              "        vertical-align: top;\n",
              "    }\n",
              "\n",
              "    .dataframe thead th {\n",
              "        text-align: right;\n",
              "    }\n",
              "</style>\n",
              "<table border=\"1\" class=\"dataframe\">\n",
              "  <thead>\n",
              "    <tr style=\"text-align: right;\">\n",
              "      <th></th>\n",
              "      <th>km_driven</th>\n",
              "      <th>Age</th>\n",
              "    </tr>\n",
              "  </thead>\n",
              "  <tbody>\n",
              "    <tr>\n",
              "      <th>72</th>\n",
              "      <td>1.109006</td>\n",
              "      <td>4.042672</td>\n",
              "    </tr>\n",
              "    <tr>\n",
              "      <th>202</th>\n",
              "      <td>1.949730</td>\n",
              "      <td>1.617069</td>\n",
              "    </tr>\n",
              "    <tr>\n",
              "      <th>436</th>\n",
              "      <td>2.857826</td>\n",
              "      <td>2.425603</td>\n",
              "    </tr>\n",
              "    <tr>\n",
              "      <th>56</th>\n",
              "      <td>0.555307</td>\n",
              "      <td>1.212802</td>\n",
              "    </tr>\n",
              "    <tr>\n",
              "      <th>289</th>\n",
              "      <td>0.286440</td>\n",
              "      <td>1.212802</td>\n",
              "    </tr>\n",
              "  </tbody>\n",
              "</table>\n",
              "</div>\n",
              "    <div class=\"colab-df-buttons\">\n",
              "\n",
              "  <div class=\"colab-df-container\">\n",
              "    <button class=\"colab-df-convert\" onclick=\"convertToInteractive('df-6b11f53f-5b6f-4ccf-8505-1b9e37e6a036')\"\n",
              "            title=\"Convert this dataframe to an interactive table.\"\n",
              "            style=\"display:none;\">\n",
              "\n",
              "  <svg xmlns=\"http://www.w3.org/2000/svg\" height=\"24px\" viewBox=\"0 -960 960 960\">\n",
              "    <path d=\"M120-120v-720h720v720H120Zm60-500h600v-160H180v160Zm220 220h160v-160H400v160Zm0 220h160v-160H400v160ZM180-400h160v-160H180v160Zm440 0h160v-160H620v160ZM180-180h160v-160H180v160Zm440 0h160v-160H620v160Z\"/>\n",
              "  </svg>\n",
              "    </button>\n",
              "\n",
              "  <style>\n",
              "    .colab-df-container {\n",
              "      display:flex;\n",
              "      gap: 12px;\n",
              "    }\n",
              "\n",
              "    .colab-df-convert {\n",
              "      background-color: #E8F0FE;\n",
              "      border: none;\n",
              "      border-radius: 50%;\n",
              "      cursor: pointer;\n",
              "      display: none;\n",
              "      fill: #1967D2;\n",
              "      height: 32px;\n",
              "      padding: 0 0 0 0;\n",
              "      width: 32px;\n",
              "    }\n",
              "\n",
              "    .colab-df-convert:hover {\n",
              "      background-color: #E2EBFA;\n",
              "      box-shadow: 0px 1px 2px rgba(60, 64, 67, 0.3), 0px 1px 3px 1px rgba(60, 64, 67, 0.15);\n",
              "      fill: #174EA6;\n",
              "    }\n",
              "\n",
              "    .colab-df-buttons div {\n",
              "      margin-bottom: 4px;\n",
              "    }\n",
              "\n",
              "    [theme=dark] .colab-df-convert {\n",
              "      background-color: #3B4455;\n",
              "      fill: #D2E3FC;\n",
              "    }\n",
              "\n",
              "    [theme=dark] .colab-df-convert:hover {\n",
              "      background-color: #434B5C;\n",
              "      box-shadow: 0px 1px 3px 1px rgba(0, 0, 0, 0.15);\n",
              "      filter: drop-shadow(0px 1px 2px rgba(0, 0, 0, 0.3));\n",
              "      fill: #FFFFFF;\n",
              "    }\n",
              "  </style>\n",
              "\n",
              "    <script>\n",
              "      const buttonEl =\n",
              "        document.querySelector('#df-6b11f53f-5b6f-4ccf-8505-1b9e37e6a036 button.colab-df-convert');\n",
              "      buttonEl.style.display =\n",
              "        google.colab.kernel.accessAllowed ? 'block' : 'none';\n",
              "\n",
              "      async function convertToInteractive(key) {\n",
              "        const element = document.querySelector('#df-6b11f53f-5b6f-4ccf-8505-1b9e37e6a036');\n",
              "        const dataTable =\n",
              "          await google.colab.kernel.invokeFunction('convertToInteractive',\n",
              "                                                    [key], {});\n",
              "        if (!dataTable) return;\n",
              "\n",
              "        const docLinkHtml = 'Like what you see? Visit the ' +\n",
              "          '<a target=\"_blank\" href=https://colab.research.google.com/notebooks/data_table.ipynb>data table notebook</a>'\n",
              "          + ' to learn more about interactive tables.';\n",
              "        element.innerHTML = '';\n",
              "        dataTable['output_type'] = 'display_data';\n",
              "        await google.colab.output.renderOutput(dataTable, element);\n",
              "        const docLink = document.createElement('div');\n",
              "        docLink.innerHTML = docLinkHtml;\n",
              "        element.appendChild(docLink);\n",
              "      }\n",
              "    </script>\n",
              "  </div>\n",
              "\n",
              "\n",
              "<div id=\"df-006dfa99-7fcc-46b9-85a8-caf24d8ee90c\">\n",
              "  <button class=\"colab-df-quickchart\" onclick=\"quickchart('df-006dfa99-7fcc-46b9-85a8-caf24d8ee90c')\"\n",
              "            title=\"Suggest charts.\"\n",
              "            style=\"display:none;\">\n",
              "\n",
              "<svg xmlns=\"http://www.w3.org/2000/svg\" height=\"24px\"viewBox=\"0 0 24 24\"\n",
              "     width=\"24px\">\n",
              "    <g>\n",
              "        <path d=\"M19 3H5c-1.1 0-2 .9-2 2v14c0 1.1.9 2 2 2h14c1.1 0 2-.9 2-2V5c0-1.1-.9-2-2-2zM9 17H7v-7h2v7zm4 0h-2V7h2v10zm4 0h-2v-4h2v4z\"/>\n",
              "    </g>\n",
              "</svg>\n",
              "  </button>\n",
              "\n",
              "<style>\n",
              "  .colab-df-quickchart {\n",
              "      --bg-color: #E8F0FE;\n",
              "      --fill-color: #1967D2;\n",
              "      --hover-bg-color: #E2EBFA;\n",
              "      --hover-fill-color: #174EA6;\n",
              "      --disabled-fill-color: #AAA;\n",
              "      --disabled-bg-color: #DDD;\n",
              "  }\n",
              "\n",
              "  [theme=dark] .colab-df-quickchart {\n",
              "      --bg-color: #3B4455;\n",
              "      --fill-color: #D2E3FC;\n",
              "      --hover-bg-color: #434B5C;\n",
              "      --hover-fill-color: #FFFFFF;\n",
              "      --disabled-bg-color: #3B4455;\n",
              "      --disabled-fill-color: #666;\n",
              "  }\n",
              "\n",
              "  .colab-df-quickchart {\n",
              "    background-color: var(--bg-color);\n",
              "    border: none;\n",
              "    border-radius: 50%;\n",
              "    cursor: pointer;\n",
              "    display: none;\n",
              "    fill: var(--fill-color);\n",
              "    height: 32px;\n",
              "    padding: 0;\n",
              "    width: 32px;\n",
              "  }\n",
              "\n",
              "  .colab-df-quickchart:hover {\n",
              "    background-color: var(--hover-bg-color);\n",
              "    box-shadow: 0 1px 2px rgba(60, 64, 67, 0.3), 0 1px 3px 1px rgba(60, 64, 67, 0.15);\n",
              "    fill: var(--button-hover-fill-color);\n",
              "  }\n",
              "\n",
              "  .colab-df-quickchart-complete:disabled,\n",
              "  .colab-df-quickchart-complete:disabled:hover {\n",
              "    background-color: var(--disabled-bg-color);\n",
              "    fill: var(--disabled-fill-color);\n",
              "    box-shadow: none;\n",
              "  }\n",
              "\n",
              "  .colab-df-spinner {\n",
              "    border: 2px solid var(--fill-color);\n",
              "    border-color: transparent;\n",
              "    border-bottom-color: var(--fill-color);\n",
              "    animation:\n",
              "      spin 1s steps(1) infinite;\n",
              "  }\n",
              "\n",
              "  @keyframes spin {\n",
              "    0% {\n",
              "      border-color: transparent;\n",
              "      border-bottom-color: var(--fill-color);\n",
              "      border-left-color: var(--fill-color);\n",
              "    }\n",
              "    20% {\n",
              "      border-color: transparent;\n",
              "      border-left-color: var(--fill-color);\n",
              "      border-top-color: var(--fill-color);\n",
              "    }\n",
              "    30% {\n",
              "      border-color: transparent;\n",
              "      border-left-color: var(--fill-color);\n",
              "      border-top-color: var(--fill-color);\n",
              "      border-right-color: var(--fill-color);\n",
              "    }\n",
              "    40% {\n",
              "      border-color: transparent;\n",
              "      border-right-color: var(--fill-color);\n",
              "      border-top-color: var(--fill-color);\n",
              "    }\n",
              "    60% {\n",
              "      border-color: transparent;\n",
              "      border-right-color: var(--fill-color);\n",
              "    }\n",
              "    80% {\n",
              "      border-color: transparent;\n",
              "      border-right-color: var(--fill-color);\n",
              "      border-bottom-color: var(--fill-color);\n",
              "    }\n",
              "    90% {\n",
              "      border-color: transparent;\n",
              "      border-bottom-color: var(--fill-color);\n",
              "    }\n",
              "  }\n",
              "</style>\n",
              "\n",
              "  <script>\n",
              "    async function quickchart(key) {\n",
              "      const quickchartButtonEl =\n",
              "        document.querySelector('#' + key + ' button');\n",
              "      quickchartButtonEl.disabled = true;  // To prevent multiple clicks.\n",
              "      quickchartButtonEl.classList.add('colab-df-spinner');\n",
              "      try {\n",
              "        const charts = await google.colab.kernel.invokeFunction(\n",
              "            'suggestCharts', [key], {});\n",
              "      } catch (error) {\n",
              "        console.error('Error during call to suggestCharts:', error);\n",
              "      }\n",
              "      quickchartButtonEl.classList.remove('colab-df-spinner');\n",
              "      quickchartButtonEl.classList.add('colab-df-quickchart-complete');\n",
              "    }\n",
              "    (() => {\n",
              "      let quickchartButtonEl =\n",
              "        document.querySelector('#df-006dfa99-7fcc-46b9-85a8-caf24d8ee90c button');\n",
              "      quickchartButtonEl.style.display =\n",
              "        google.colab.kernel.accessAllowed ? 'block' : 'none';\n",
              "    })();\n",
              "  </script>\n",
              "</div>\n",
              "    </div>\n",
              "  </div>\n"
            ]
          },
          "metadata": {},
          "execution_count": 51
        }
      ]
    },
    {
      "cell_type": "code",
      "execution_count": 52,
      "metadata": {
        "colab": {
          "base_uri": "https://localhost:8080/",
          "height": 206
        },
        "id": "a3qoZuQ3nOmk",
        "outputId": "29699d7a-9769-4f0d-dd53-d84cf71d9afb"
      },
      "outputs": [
        {
          "output_type": "execute_result",
          "data": {
            "text/plain": [
              "     km_driven       Age\n",
              "344   1.663180  1.617069\n",
              "183   1.839685  1.617069\n",
              "223   1.673520  1.617069\n",
              "319   1.096657  0.808534\n",
              "29    1.619520  5.659741"
            ],
            "text/html": [
              "\n",
              "  <div id=\"df-cd029d5d-b355-4e52-83bf-a0eb663e5e8e\" class=\"colab-df-container\">\n",
              "    <div>\n",
              "<style scoped>\n",
              "    .dataframe tbody tr th:only-of-type {\n",
              "        vertical-align: middle;\n",
              "    }\n",
              "\n",
              "    .dataframe tbody tr th {\n",
              "        vertical-align: top;\n",
              "    }\n",
              "\n",
              "    .dataframe thead th {\n",
              "        text-align: right;\n",
              "    }\n",
              "</style>\n",
              "<table border=\"1\" class=\"dataframe\">\n",
              "  <thead>\n",
              "    <tr style=\"text-align: right;\">\n",
              "      <th></th>\n",
              "      <th>km_driven</th>\n",
              "      <th>Age</th>\n",
              "    </tr>\n",
              "  </thead>\n",
              "  <tbody>\n",
              "    <tr>\n",
              "      <th>344</th>\n",
              "      <td>1.663180</td>\n",
              "      <td>1.617069</td>\n",
              "    </tr>\n",
              "    <tr>\n",
              "      <th>183</th>\n",
              "      <td>1.839685</td>\n",
              "      <td>1.617069</td>\n",
              "    </tr>\n",
              "    <tr>\n",
              "      <th>223</th>\n",
              "      <td>1.673520</td>\n",
              "      <td>1.617069</td>\n",
              "    </tr>\n",
              "    <tr>\n",
              "      <th>319</th>\n",
              "      <td>1.096657</td>\n",
              "      <td>0.808534</td>\n",
              "    </tr>\n",
              "    <tr>\n",
              "      <th>29</th>\n",
              "      <td>1.619520</td>\n",
              "      <td>5.659741</td>\n",
              "    </tr>\n",
              "  </tbody>\n",
              "</table>\n",
              "</div>\n",
              "    <div class=\"colab-df-buttons\">\n",
              "\n",
              "  <div class=\"colab-df-container\">\n",
              "    <button class=\"colab-df-convert\" onclick=\"convertToInteractive('df-cd029d5d-b355-4e52-83bf-a0eb663e5e8e')\"\n",
              "            title=\"Convert this dataframe to an interactive table.\"\n",
              "            style=\"display:none;\">\n",
              "\n",
              "  <svg xmlns=\"http://www.w3.org/2000/svg\" height=\"24px\" viewBox=\"0 -960 960 960\">\n",
              "    <path d=\"M120-120v-720h720v720H120Zm60-500h600v-160H180v160Zm220 220h160v-160H400v160Zm0 220h160v-160H400v160ZM180-400h160v-160H180v160Zm440 0h160v-160H620v160ZM180-180h160v-160H180v160Zm440 0h160v-160H620v160Z\"/>\n",
              "  </svg>\n",
              "    </button>\n",
              "\n",
              "  <style>\n",
              "    .colab-df-container {\n",
              "      display:flex;\n",
              "      gap: 12px;\n",
              "    }\n",
              "\n",
              "    .colab-df-convert {\n",
              "      background-color: #E8F0FE;\n",
              "      border: none;\n",
              "      border-radius: 50%;\n",
              "      cursor: pointer;\n",
              "      display: none;\n",
              "      fill: #1967D2;\n",
              "      height: 32px;\n",
              "      padding: 0 0 0 0;\n",
              "      width: 32px;\n",
              "    }\n",
              "\n",
              "    .colab-df-convert:hover {\n",
              "      background-color: #E2EBFA;\n",
              "      box-shadow: 0px 1px 2px rgba(60, 64, 67, 0.3), 0px 1px 3px 1px rgba(60, 64, 67, 0.15);\n",
              "      fill: #174EA6;\n",
              "    }\n",
              "\n",
              "    .colab-df-buttons div {\n",
              "      margin-bottom: 4px;\n",
              "    }\n",
              "\n",
              "    [theme=dark] .colab-df-convert {\n",
              "      background-color: #3B4455;\n",
              "      fill: #D2E3FC;\n",
              "    }\n",
              "\n",
              "    [theme=dark] .colab-df-convert:hover {\n",
              "      background-color: #434B5C;\n",
              "      box-shadow: 0px 1px 3px 1px rgba(0, 0, 0, 0.15);\n",
              "      filter: drop-shadow(0px 1px 2px rgba(0, 0, 0, 0.3));\n",
              "      fill: #FFFFFF;\n",
              "    }\n",
              "  </style>\n",
              "\n",
              "    <script>\n",
              "      const buttonEl =\n",
              "        document.querySelector('#df-cd029d5d-b355-4e52-83bf-a0eb663e5e8e button.colab-df-convert');\n",
              "      buttonEl.style.display =\n",
              "        google.colab.kernel.accessAllowed ? 'block' : 'none';\n",
              "\n",
              "      async function convertToInteractive(key) {\n",
              "        const element = document.querySelector('#df-cd029d5d-b355-4e52-83bf-a0eb663e5e8e');\n",
              "        const dataTable =\n",
              "          await google.colab.kernel.invokeFunction('convertToInteractive',\n",
              "                                                    [key], {});\n",
              "        if (!dataTable) return;\n",
              "\n",
              "        const docLinkHtml = 'Like what you see? Visit the ' +\n",
              "          '<a target=\"_blank\" href=https://colab.research.google.com/notebooks/data_table.ipynb>data table notebook</a>'\n",
              "          + ' to learn more about interactive tables.';\n",
              "        element.innerHTML = '';\n",
              "        dataTable['output_type'] = 'display_data';\n",
              "        await google.colab.output.renderOutput(dataTable, element);\n",
              "        const docLink = document.createElement('div');\n",
              "        docLink.innerHTML = docLinkHtml;\n",
              "        element.appendChild(docLink);\n",
              "      }\n",
              "    </script>\n",
              "  </div>\n",
              "\n",
              "\n",
              "<div id=\"df-e9ffdc6f-418a-4b27-9c41-a588cc060590\">\n",
              "  <button class=\"colab-df-quickchart\" onclick=\"quickchart('df-e9ffdc6f-418a-4b27-9c41-a588cc060590')\"\n",
              "            title=\"Suggest charts.\"\n",
              "            style=\"display:none;\">\n",
              "\n",
              "<svg xmlns=\"http://www.w3.org/2000/svg\" height=\"24px\"viewBox=\"0 0 24 24\"\n",
              "     width=\"24px\">\n",
              "    <g>\n",
              "        <path d=\"M19 3H5c-1.1 0-2 .9-2 2v14c0 1.1.9 2 2 2h14c1.1 0 2-.9 2-2V5c0-1.1-.9-2-2-2zM9 17H7v-7h2v7zm4 0h-2V7h2v10zm4 0h-2v-4h2v4z\"/>\n",
              "    </g>\n",
              "</svg>\n",
              "  </button>\n",
              "\n",
              "<style>\n",
              "  .colab-df-quickchart {\n",
              "      --bg-color: #E8F0FE;\n",
              "      --fill-color: #1967D2;\n",
              "      --hover-bg-color: #E2EBFA;\n",
              "      --hover-fill-color: #174EA6;\n",
              "      --disabled-fill-color: #AAA;\n",
              "      --disabled-bg-color: #DDD;\n",
              "  }\n",
              "\n",
              "  [theme=dark] .colab-df-quickchart {\n",
              "      --bg-color: #3B4455;\n",
              "      --fill-color: #D2E3FC;\n",
              "      --hover-bg-color: #434B5C;\n",
              "      --hover-fill-color: #FFFFFF;\n",
              "      --disabled-bg-color: #3B4455;\n",
              "      --disabled-fill-color: #666;\n",
              "  }\n",
              "\n",
              "  .colab-df-quickchart {\n",
              "    background-color: var(--bg-color);\n",
              "    border: none;\n",
              "    border-radius: 50%;\n",
              "    cursor: pointer;\n",
              "    display: none;\n",
              "    fill: var(--fill-color);\n",
              "    height: 32px;\n",
              "    padding: 0;\n",
              "    width: 32px;\n",
              "  }\n",
              "\n",
              "  .colab-df-quickchart:hover {\n",
              "    background-color: var(--hover-bg-color);\n",
              "    box-shadow: 0 1px 2px rgba(60, 64, 67, 0.3), 0 1px 3px 1px rgba(60, 64, 67, 0.15);\n",
              "    fill: var(--button-hover-fill-color);\n",
              "  }\n",
              "\n",
              "  .colab-df-quickchart-complete:disabled,\n",
              "  .colab-df-quickchart-complete:disabled:hover {\n",
              "    background-color: var(--disabled-bg-color);\n",
              "    fill: var(--disabled-fill-color);\n",
              "    box-shadow: none;\n",
              "  }\n",
              "\n",
              "  .colab-df-spinner {\n",
              "    border: 2px solid var(--fill-color);\n",
              "    border-color: transparent;\n",
              "    border-bottom-color: var(--fill-color);\n",
              "    animation:\n",
              "      spin 1s steps(1) infinite;\n",
              "  }\n",
              "\n",
              "  @keyframes spin {\n",
              "    0% {\n",
              "      border-color: transparent;\n",
              "      border-bottom-color: var(--fill-color);\n",
              "      border-left-color: var(--fill-color);\n",
              "    }\n",
              "    20% {\n",
              "      border-color: transparent;\n",
              "      border-left-color: var(--fill-color);\n",
              "      border-top-color: var(--fill-color);\n",
              "    }\n",
              "    30% {\n",
              "      border-color: transparent;\n",
              "      border-left-color: var(--fill-color);\n",
              "      border-top-color: var(--fill-color);\n",
              "      border-right-color: var(--fill-color);\n",
              "    }\n",
              "    40% {\n",
              "      border-color: transparent;\n",
              "      border-right-color: var(--fill-color);\n",
              "      border-top-color: var(--fill-color);\n",
              "    }\n",
              "    60% {\n",
              "      border-color: transparent;\n",
              "      border-right-color: var(--fill-color);\n",
              "    }\n",
              "    80% {\n",
              "      border-color: transparent;\n",
              "      border-right-color: var(--fill-color);\n",
              "      border-bottom-color: var(--fill-color);\n",
              "    }\n",
              "    90% {\n",
              "      border-color: transparent;\n",
              "      border-bottom-color: var(--fill-color);\n",
              "    }\n",
              "  }\n",
              "</style>\n",
              "\n",
              "  <script>\n",
              "    async function quickchart(key) {\n",
              "      const quickchartButtonEl =\n",
              "        document.querySelector('#' + key + ' button');\n",
              "      quickchartButtonEl.disabled = true;  // To prevent multiple clicks.\n",
              "      quickchartButtonEl.classList.add('colab-df-spinner');\n",
              "      try {\n",
              "        const charts = await google.colab.kernel.invokeFunction(\n",
              "            'suggestCharts', [key], {});\n",
              "      } catch (error) {\n",
              "        console.error('Error during call to suggestCharts:', error);\n",
              "      }\n",
              "      quickchartButtonEl.classList.remove('colab-df-spinner');\n",
              "      quickchartButtonEl.classList.add('colab-df-quickchart-complete');\n",
              "    }\n",
              "    (() => {\n",
              "      let quickchartButtonEl =\n",
              "        document.querySelector('#df-e9ffdc6f-418a-4b27-9c41-a588cc060590 button');\n",
              "      quickchartButtonEl.style.display =\n",
              "        google.colab.kernel.accessAllowed ? 'block' : 'none';\n",
              "    })();\n",
              "  </script>\n",
              "</div>\n",
              "    </div>\n",
              "  </div>\n"
            ]
          },
          "metadata": {},
          "execution_count": 52
        }
      ],
      "source": [
        "X_test.loc[:,['km_driven', 'Age']] = scaler.transform(X_test.loc[:,['km_driven', 'Age']].to_numpy())\n",
        "X_test.loc[:,['km_driven', 'Age']].head()"
      ],
      "id": "a3qoZuQ3nOmk"
    },
    {
      "cell_type": "markdown",
      "source": [
        "##### 6.5. Define Base Model"
      ],
      "metadata": {
        "id": "UOIx870mM0sG"
      },
      "id": "UOIx870mM0sG"
    },
    {
      "cell_type": "code",
      "source": [
        "from keras.wrappers.scikit_learn import KerasRegressor\n",
        "from keras.models import Sequential\n",
        "from keras.layers import Dense"
      ],
      "metadata": {
        "id": "sxDOOfiuNK78"
      },
      "id": "sxDOOfiuNK78",
      "execution_count": 53,
      "outputs": []
    },
    {
      "cell_type": "code",
      "execution_count": 54,
      "metadata": {
        "id": "VV2zYKmdrVp5"
      },
      "outputs": [],
      "source": [
        "def baseline_model():\n",
        "    # create model\n",
        "    model = Sequential()\n",
        "\n",
        "    model.add(Dense(900, input_dim=333, activation='relu'))\n",
        "\n",
        "    model.add(Dense(500, activation='relu'))\n",
        "\n",
        "    model.add(Dense(333, activation='relu'))\n",
        "\n",
        "    model.add(Dense(1))\n",
        "\n",
        "    # Compile model\n",
        "    model.compile(loss='mean_squared_error', optimizer='adam')\n",
        "    return model"
      ],
      "id": "VV2zYKmdrVp5"
    },
    {
      "cell_type": "code",
      "execution_count": 55,
      "metadata": {
        "id": "N1MkqqOmrhxy"
      },
      "outputs": [],
      "source": [
        "estimator = KerasRegressor(build_fn=baseline_model, epochs=100, batch_size=3, verbose=1)"
      ],
      "id": "N1MkqqOmrhxy"
    },
    {
      "cell_type": "markdown",
      "source": [
        "##### 6.6. Training"
      ],
      "metadata": {
        "id": "tAZrTtVScUYm"
      },
      "id": "tAZrTtVScUYm"
    },
    {
      "cell_type": "code",
      "execution_count": 56,
      "metadata": {
        "colab": {
          "base_uri": "https://localhost:8080/"
        },
        "id": "mwjv88wern3N",
        "outputId": "bd56c0c9-ae9f-4c58-d267-3f26b20be539"
      },
      "outputs": [
        {
          "output_type": "stream",
          "name": "stdout",
          "text": [
            "Epoch 1/100\n",
            "145/145 [==============================] - 3s 11ms/step - loss: 444841623552.0000\n",
            "Epoch 2/100\n",
            "145/145 [==============================] - 1s 10ms/step - loss: 149646016512.0000\n",
            "Epoch 3/100\n",
            "145/145 [==============================] - 1s 10ms/step - loss: 125099474944.0000\n",
            "Epoch 4/100\n",
            "145/145 [==============================] - 2s 13ms/step - loss: 101053112320.0000\n",
            "Epoch 5/100\n",
            "145/145 [==============================] - 2s 14ms/step - loss: 75952996352.0000\n",
            "Epoch 6/100\n",
            "145/145 [==============================] - 1s 10ms/step - loss: 52536217600.0000\n",
            "Epoch 7/100\n",
            "145/145 [==============================] - 1s 10ms/step - loss: 36272066560.0000\n",
            "Epoch 8/100\n",
            "145/145 [==============================] - 1s 10ms/step - loss: 24771534848.0000\n",
            "Epoch 9/100\n",
            "145/145 [==============================] - 1s 10ms/step - loss: 17945415680.0000\n",
            "Epoch 10/100\n",
            "145/145 [==============================] - 1s 10ms/step - loss: 12957139968.0000\n",
            "Epoch 11/100\n",
            "145/145 [==============================] - 1s 10ms/step - loss: 9782981632.0000\n",
            "Epoch 12/100\n",
            "145/145 [==============================] - 2s 12ms/step - loss: 7671292416.0000\n",
            "Epoch 13/100\n",
            "145/145 [==============================] - 2s 14ms/step - loss: 5821176832.0000\n",
            "Epoch 14/100\n",
            "145/145 [==============================] - 2s 10ms/step - loss: 4878422016.0000\n",
            "Epoch 15/100\n",
            "145/145 [==============================] - 1s 10ms/step - loss: 3928384000.0000\n",
            "Epoch 16/100\n",
            "145/145 [==============================] - 1s 10ms/step - loss: 3360877568.0000\n",
            "Epoch 17/100\n",
            "145/145 [==============================] - 1s 10ms/step - loss: 2753629952.0000\n",
            "Epoch 18/100\n",
            "145/145 [==============================] - 1s 10ms/step - loss: 2201292032.0000\n",
            "Epoch 19/100\n",
            "145/145 [==============================] - 1s 10ms/step - loss: 1942672000.0000\n",
            "Epoch 20/100\n",
            "145/145 [==============================] - 2s 12ms/step - loss: 1579307008.0000\n",
            "Epoch 21/100\n",
            "145/145 [==============================] - 2s 14ms/step - loss: 1467085440.0000\n",
            "Epoch 22/100\n",
            "145/145 [==============================] - 1s 10ms/step - loss: 1222093568.0000\n",
            "Epoch 23/100\n",
            "145/145 [==============================] - 1s 10ms/step - loss: 1037299520.0000\n",
            "Epoch 24/100\n",
            "145/145 [==============================] - 1s 10ms/step - loss: 971830656.0000\n",
            "Epoch 25/100\n",
            "145/145 [==============================] - 1s 10ms/step - loss: 874364224.0000\n",
            "Epoch 26/100\n",
            "145/145 [==============================] - 1s 10ms/step - loss: 832333824.0000\n",
            "Epoch 27/100\n",
            "145/145 [==============================] - 1s 10ms/step - loss: 767309376.0000\n",
            "Epoch 28/100\n",
            "145/145 [==============================] - 2s 12ms/step - loss: 775591296.0000\n",
            "Epoch 29/100\n",
            "145/145 [==============================] - 2s 15ms/step - loss: 767774272.0000\n",
            "Epoch 30/100\n",
            "145/145 [==============================] - 2s 14ms/step - loss: 752312192.0000\n",
            "Epoch 31/100\n",
            "145/145 [==============================] - 2s 12ms/step - loss: 690211712.0000\n",
            "Epoch 32/100\n",
            "145/145 [==============================] - 1s 10ms/step - loss: 668134976.0000\n",
            "Epoch 33/100\n",
            "145/145 [==============================] - 2s 11ms/step - loss: 720229824.0000\n",
            "Epoch 34/100\n",
            "145/145 [==============================] - 1s 10ms/step - loss: 718770752.0000\n",
            "Epoch 35/100\n",
            "145/145 [==============================] - 2s 10ms/step - loss: 668478464.0000\n",
            "Epoch 36/100\n",
            "145/145 [==============================] - 2s 14ms/step - loss: 701512832.0000\n",
            "Epoch 37/100\n",
            "145/145 [==============================] - 2s 12ms/step - loss: 664656000.0000\n",
            "Epoch 38/100\n",
            "145/145 [==============================] - 1s 10ms/step - loss: 781774464.0000\n",
            "Epoch 39/100\n",
            "145/145 [==============================] - 1s 10ms/step - loss: 713334976.0000\n",
            "Epoch 40/100\n",
            "145/145 [==============================] - 1s 10ms/step - loss: 677289280.0000\n",
            "Epoch 41/100\n",
            "145/145 [==============================] - 2s 11ms/step - loss: 643028160.0000\n",
            "Epoch 42/100\n",
            "145/145 [==============================] - 1s 10ms/step - loss: 624670592.0000\n",
            "Epoch 43/100\n",
            "145/145 [==============================] - 1s 10ms/step - loss: 719338176.0000\n",
            "Epoch 44/100\n",
            "145/145 [==============================] - 2s 14ms/step - loss: 679504128.0000\n",
            "Epoch 45/100\n",
            "145/145 [==============================] - 2s 12ms/step - loss: 668515520.0000\n",
            "Epoch 46/100\n",
            "145/145 [==============================] - 1s 10ms/step - loss: 724285056.0000\n",
            "Epoch 47/100\n",
            "145/145 [==============================] - 1s 10ms/step - loss: 694180544.0000\n",
            "Epoch 48/100\n",
            "145/145 [==============================] - 1s 10ms/step - loss: 642268032.0000\n",
            "Epoch 49/100\n",
            "145/145 [==============================] - 1s 10ms/step - loss: 683676288.0000\n",
            "Epoch 50/100\n",
            "145/145 [==============================] - 1s 10ms/step - loss: 678002432.0000\n",
            "Epoch 51/100\n",
            "145/145 [==============================] - 1s 10ms/step - loss: 671229440.0000\n",
            "Epoch 52/100\n",
            "145/145 [==============================] - 2s 13ms/step - loss: 645669120.0000\n",
            "Epoch 53/100\n",
            "145/145 [==============================] - 2s 12ms/step - loss: 708642816.0000\n",
            "Epoch 54/100\n",
            "145/145 [==============================] - 1s 10ms/step - loss: 672044800.0000\n",
            "Epoch 55/100\n",
            "145/145 [==============================] - 1s 9ms/step - loss: 644159168.0000\n",
            "Epoch 56/100\n",
            "145/145 [==============================] - 1s 10ms/step - loss: 656159616.0000\n",
            "Epoch 57/100\n",
            "145/145 [==============================] - 1s 10ms/step - loss: 631977984.0000\n",
            "Epoch 58/100\n",
            "145/145 [==============================] - 1s 10ms/step - loss: 616663104.0000\n",
            "Epoch 59/100\n",
            "145/145 [==============================] - 1s 10ms/step - loss: 602325888.0000\n",
            "Epoch 60/100\n",
            "145/145 [==============================] - 2s 11ms/step - loss: 621942656.0000\n",
            "Epoch 61/100\n",
            "145/145 [==============================] - 2s 14ms/step - loss: 631940160.0000\n",
            "Epoch 62/100\n",
            "145/145 [==============================] - 1s 10ms/step - loss: 645199680.0000\n",
            "Epoch 63/100\n",
            "145/145 [==============================] - 1s 10ms/step - loss: 666385472.0000\n",
            "Epoch 64/100\n",
            "145/145 [==============================] - 1s 10ms/step - loss: 661486656.0000\n",
            "Epoch 65/100\n",
            "145/145 [==============================] - 1s 10ms/step - loss: 630734272.0000\n",
            "Epoch 66/100\n",
            "145/145 [==============================] - 1s 10ms/step - loss: 593746752.0000\n",
            "Epoch 67/100\n",
            "145/145 [==============================] - 1s 10ms/step - loss: 766811840.0000\n",
            "Epoch 68/100\n",
            "145/145 [==============================] - 1s 10ms/step - loss: 592655936.0000\n",
            "Epoch 69/100\n",
            "145/145 [==============================] - 2s 14ms/step - loss: 575702144.0000\n",
            "Epoch 70/100\n",
            "145/145 [==============================] - 2s 11ms/step - loss: 572093824.0000\n",
            "Epoch 71/100\n",
            "145/145 [==============================] - 2s 11ms/step - loss: 611879552.0000\n",
            "Epoch 72/100\n",
            "145/145 [==============================] - 2s 11ms/step - loss: 593844352.0000\n",
            "Epoch 73/100\n",
            "145/145 [==============================] - 1s 10ms/step - loss: 604555968.0000\n",
            "Epoch 74/100\n",
            "145/145 [==============================] - 1s 10ms/step - loss: 644173504.0000\n",
            "Epoch 75/100\n",
            "145/145 [==============================] - 1s 10ms/step - loss: 569150080.0000\n",
            "Epoch 76/100\n",
            "145/145 [==============================] - 1s 10ms/step - loss: 626942464.0000\n",
            "Epoch 77/100\n",
            "145/145 [==============================] - 2s 14ms/step - loss: 558345024.0000\n",
            "Epoch 78/100\n",
            "145/145 [==============================] - 2s 12ms/step - loss: 761552640.0000\n",
            "Epoch 79/100\n",
            "145/145 [==============================] - 1s 10ms/step - loss: 586738752.0000\n",
            "Epoch 80/100\n",
            "145/145 [==============================] - 1s 10ms/step - loss: 554756352.0000\n",
            "Epoch 81/100\n",
            "145/145 [==============================] - 1s 10ms/step - loss: 508927648.0000\n",
            "Epoch 82/100\n",
            "145/145 [==============================] - 1s 10ms/step - loss: 519856960.0000\n",
            "Epoch 83/100\n",
            "145/145 [==============================] - 1s 9ms/step - loss: 532985952.0000\n",
            "Epoch 84/100\n",
            "145/145 [==============================] - 1s 10ms/step - loss: 545032576.0000\n",
            "Epoch 85/100\n",
            "145/145 [==============================] - 2s 12ms/step - loss: 551737280.0000\n",
            "Epoch 86/100\n",
            "145/145 [==============================] - 2s 13ms/step - loss: 612842304.0000\n",
            "Epoch 87/100\n",
            "145/145 [==============================] - 1s 10ms/step - loss: 637898752.0000\n",
            "Epoch 88/100\n",
            "145/145 [==============================] - 1s 10ms/step - loss: 547115840.0000\n",
            "Epoch 89/100\n",
            "145/145 [==============================] - 1s 10ms/step - loss: 613186496.0000\n",
            "Epoch 90/100\n",
            "145/145 [==============================] - 1s 10ms/step - loss: 514554400.0000\n",
            "Epoch 91/100\n",
            "145/145 [==============================] - 1s 10ms/step - loss: 520893120.0000\n",
            "Epoch 92/100\n",
            "145/145 [==============================] - 2s 10ms/step - loss: 526048032.0000\n",
            "Epoch 93/100\n",
            "145/145 [==============================] - 2s 12ms/step - loss: 580117504.0000\n",
            "Epoch 94/100\n",
            "145/145 [==============================] - 2s 15ms/step - loss: 621519744.0000\n",
            "Epoch 95/100\n",
            "145/145 [==============================] - 1s 10ms/step - loss: 662164416.0000\n",
            "Epoch 96/100\n",
            "145/145 [==============================] - 1s 10ms/step - loss: 573477696.0000\n",
            "Epoch 97/100\n",
            "145/145 [==============================] - 1s 10ms/step - loss: 530906592.0000\n",
            "Epoch 98/100\n",
            "145/145 [==============================] - 1s 10ms/step - loss: 532695808.0000\n",
            "Epoch 99/100\n",
            "145/145 [==============================] - 1s 10ms/step - loss: 477629664.0000\n",
            "Epoch 100/100\n",
            "145/145 [==============================] - 1s 10ms/step - loss: 596796608.0000\n"
          ]
        }
      ],
      "source": [
        "history = estimator.fit(X_train,y_train)"
      ],
      "id": "mwjv88wern3N"
    },
    {
      "cell_type": "markdown",
      "source": [
        "##### 6.7. Model Evaluation"
      ],
      "metadata": {
        "id": "AwEsj9ZCceOo"
      },
      "id": "AwEsj9ZCceOo"
    },
    {
      "cell_type": "code",
      "execution_count": 57,
      "metadata": {
        "colab": {
          "base_uri": "https://localhost:8080/",
          "height": 265
        },
        "id": "8sAenTEYtKpq",
        "outputId": "ed2675c1-034b-490a-8406-204cb5f9077b"
      },
      "outputs": [
        {
          "output_type": "display_data",
          "data": {
            "text/plain": [
              "<Figure size 1000x200 with 1 Axes>"
            ],
            "image/png": "[encoded data removed]"
          },
          "metadata": {}
        }
      ],
      "source": [
        "# Plot training & validation loss values\n",
        "plt.plot(history.history['loss'])\n",
        "\n",
        "plt.title('Model loss')\n",
        "plt.ylabel('Loss')\n",
        "plt.xlabel('Epoch')\n",
        "plt.legend(['Train', 'Test'], loc='upper left')\n",
        "plt.show()"
      ],
      "id": "8sAenTEYtKpq"
    },
    {
      "cell_type": "code",
      "execution_count": 58,
      "metadata": {
        "colab": {
          "base_uri": "https://localhost:8080/"
        },
        "id": "szHeuoLRoSCc",
        "outputId": "09975dda-a005-4982-8403-5aed78c5600b"
      },
      "outputs": [
        {
          "output_type": "stream",
          "name": "stdout",
          "text": [
            "62/62 [==============================] - 1s 4ms/step\n"
          ]
        }
      ],
      "source": [
        "from sklearn.metrics import accuracy_score\n",
        "\n",
        "prediction = estimator.predict(X_test)"
      ],
      "id": "szHeuoLRoSCc"
    },
    {
      "cell_type": "code",
      "execution_count": 59,
      "metadata": {
        "id": "L4S_azvntewH"
      },
      "outputs": [],
      "source": [
        "train_error =  np.abs(y_test - prediction)\n",
        "mean_error = np.mean(train_error)\n",
        "min_error = np.min(train_error)\n",
        "max_error = np.max(train_error)\n",
        "std_error = np.std(train_error)"
      ],
      "id": "L4S_azvntewH"
    },
    {
      "cell_type": "code",
      "execution_count": 60,
      "metadata": {
        "colab": {
          "base_uri": "https://localhost:8080/"
        },
        "id": "D8mfVwoMtjuy",
        "outputId": "59347040-38c7-434c-83ca-d1d4679cdae7"
      },
      "outputs": [
        {
          "output_type": "stream",
          "name": "stdout",
          "text": [
            "std_error:  91592.0647853664\n",
            "mean_error:  70467.67204301075\n",
            "min_error:  637.3125\n",
            "max_error:  469596.125\n"
          ]
        }
      ],
      "source": [
        "print(\"std_error: \", std_error)\n",
        "print(\"mean_error: \", mean_error)\n",
        "print(\"min_error: \", min_error)\n",
        "print(\"max_error: \", max_error)"
      ],
      "id": "D8mfVwoMtjuy"
    },
    {
      "cell_type": "code",
      "execution_count": 61,
      "metadata": {
        "colab": {
          "base_uri": "https://localhost:8080/"
        },
        "id": "rrc_wdlyu3TU",
        "outputId": "4fb7a838-b5c3-4bad-bdc1-a7dc8feda124"
      },
      "outputs": [
        {
          "output_type": "stream",
          "name": "stdout",
          "text": [
            "r_square score(Test Dataset):  0.8831284920999656\n",
            "145/145 [==============================] - 1s 3ms/step\n",
            "r_square score (Train Dataset):  0.9953178309715544\n"
          ]
        }
      ],
      "source": [
        "from sklearn.metrics import r2_score\n",
        "print(\"r_square score(Test Dataset): \", r2_score(y_test,prediction))\n",
        "\n",
        "train_prediction = estimator.predict(X_train)\n",
        "print(\"r_square score (Train Dataset): \", r2_score(y_train,train_prediction))"
      ],
      "id": "rrc_wdlyu3TU"
    }
  ],
  "metadata": {
    "colab": {
      "provenance": [],
      "collapsed_sections": [
        "d19168b6",
        "3dec43dd",
        "5e24b2ee",
        "d8763a4d",
        "bee2538c",
        "c01fb68a",
        "19f52698",
        "UOIx870mM0sG",
        "tAZrTtVScUYm",
        "AwEsj9ZCceOo"
      ],
      "include_colab_link": true
    },
    "kernelspec": {
      "display_name": "Python 3.9.12 ('base')",
      "language": "python",
      "name": "python3"
    },
    "language_info": {
      "codemirror_mode": {
        "name": "ipython",
        "version": 3
      },
      "file_extension": ".py",
      "mimetype": "text/x-python",
      "name": "python",
      "nbconvert_exporter": "python",
      "pygments_lexer": "ipython3",
      "version": "3.9.12"
    },
    "vscode": {
      "interpreter": {
        "hash": "72b97491cdeb9bb3ac668fcced72ff373db005df824af2ab58d7a007fb3289ad"
      }
    }
  },
  "nbformat": 4,
  "nbformat_minor": 5
}